{
 "cells": [
  {
   "cell_type": "markdown",
   "metadata": {
    "id": "5hYIljKil3RU"
   },
   "source": [
    "# Tuples"
   ]
  },
  {
   "cell_type": "code",
   "execution_count": 11,
   "metadata": {},
   "outputs": [
    {
     "name": "stdout",
     "output_type": "stream",
     "text": [
      "(1, 2, 3, 4, [1, 2, 3])\n",
      "(1, 2, 3, (1, 2, 3))\n",
      "(1, 2, 3, {1, 2, 3})\n",
      "(1, 2, 3, {'sub': 'Maths', 'marks': 30})\n"
     ]
    }
   ],
   "source": [
    "# We can add - Lists in Tuples, Tuples in Tuples, Sets in Tuples & Dictionaries in Tuples\n",
    "\n",
    "T1=(1,2,3,4,[1,2,3])\n",
    "print(T1)\n",
    "\n",
    "T2=(1,2,3,(1,2,3))\n",
    "print(T2)\n",
    "\n",
    "T3=(1,2,3,{1,2,3})\n",
    "print(T3)\n",
    "\n",
    "T4=(1,2,3,{'sub':'Maths', 'marks':30})\n",
    "print(T4)"
   ]
  },
  {
   "cell_type": "markdown",
   "metadata": {
    "id": "G_V0x7xzl7fL"
   },
   "source": [
    "### Creating Tuples"
   ]
  },
  {
   "cell_type": "code",
   "execution_count": 1,
   "metadata": {
    "colab": {
     "base_uri": "https://localhost:8080/"
    },
    "id": "o5QfMirSl4-q",
    "outputId": "3035d546-7757-46a8-96d9-21ef3a61ef8f"
   },
   "outputs": [
    {
     "name": "stdout",
     "output_type": "stream",
     "text": [
      "()\n",
      " \n",
      "('hello',)\n",
      "<class 'tuple'>\n",
      " \n",
      "(1, 2.5, True, [1, 2, 3])\n",
      " \n",
      "(1, 2, 3, (4, 5))\n",
      " \n",
      "('h', 'e', 'l', 'l', 'o')\n"
     ]
    }
   ],
   "source": [
    "# Empty Tuple\n",
    "t1=()\n",
    "print(t1)\n",
    "print(\" \")\n",
    "\n",
    "# Creating a tuple with a single item\n",
    "# To create a tuple with single element we place comma at the end of the element otherwise it will be a data type \n",
    "t4=('hello', )\n",
    "print(t4)\n",
    "print(type(t4))\n",
    "print(\" \")\n",
    "\n",
    "# We can add list in tuple\n",
    "t4=(1,2.5,True,[1,2,3])\n",
    "print(t4)\n",
    "print(\" \")\n",
    "\n",
    "# We can add tuple in tuple\n",
    "t5=(1,2,3,(4,5))\n",
    "print(t5)\n",
    "print(\" \")\n",
    "\n",
    "# using type conversion\n",
    "t6=tuple('hello')\n",
    "print(t6)"
   ]
  },
  {
   "cell_type": "markdown",
   "metadata": {
    "id": "hx9kH3ijmR98"
   },
   "source": [
    "### Accessing Items"
   ]
  },
  {
   "cell_type": "code",
   "execution_count": 2,
   "metadata": {
    "colab": {
     "base_uri": "https://localhost:8080/"
    },
    "id": "rGHN05iVmWNO",
    "outputId": "1a50da8d-64e3-49b6-8627-84f555a6f558"
   },
   "outputs": [
    {
     "name": "stdout",
     "output_type": "stream",
     "text": [
      "(1, 2, 3, 4, 5, (6, 7, 8))\n",
      "1\n",
      "7\n",
      " \n"
     ]
    },
    {
     "data": {
      "text/plain": [
       "(5, 4, 3)"
      ]
     },
     "execution_count": 2,
     "metadata": {},
     "output_type": "execute_result"
    }
   ],
   "source": [
    "# Indexing\n",
    "t3=(1,2,3,4,5,(6,7,8))\n",
    "print(t3)\n",
    "print(t3[0])\n",
    "print(t3[-1][1])\n",
    "print(\" \")\n",
    "\n",
    "# Slicing\n",
    "t=(1,2,3,4,5)\n",
    "t[-1:-4:-1]"
   ]
  },
  {
   "cell_type": "markdown",
   "metadata": {
    "id": "VhxuX2KXmhs0"
   },
   "source": [
    "### Mathematical Operations on Tuples"
   ]
  },
  {
   "cell_type": "code",
   "execution_count": 3,
   "metadata": {
    "colab": {
     "base_uri": "https://localhost:8080/"
    },
    "id": "EKUS6wWEmj9o",
    "outputId": "9b1e75c9-8953-462e-c6f8-c29f9573d4df"
   },
   "outputs": [
    {
     "name": "stdout",
     "output_type": "stream",
     "text": [
      "(1, 2, 3, 4, 5, 6, 7, 8)\n",
      "(1, 2, 3, 4, 1, 2, 3, 4, 1, 2, 3, 4)\n",
      " \n",
      "(2, 3, 4)\n",
      " \n",
      "1\n",
      "2\n",
      "3\n",
      "4\n",
      "55\n",
      "666\n",
      "77777\n"
     ]
    }
   ],
   "source": [
    "# Arithmetic operations --> + and *\n",
    "t1=(1,2,3,4)\n",
    "t2=(5,6,7,8)\n",
    "print(t1 + t2)\n",
    "print(t1*3)\n",
    "print(\" \")\n",
    "\n",
    "# Membership operation\n",
    "t1=(2,3,4)\n",
    "print(t1)\n",
    "1 in t1\n",
    "print(\" \")\n",
    "\n",
    "# Loops\n",
    "t1=(1,2,3,4,55,666,77777)\n",
    "for i in t1:\n",
    "  print(i)"
   ]
  },
  {
   "cell_type": "markdown",
   "metadata": {
    "id": "N52xMYoPmkcZ"
   },
   "source": [
    "### Tuple Functions"
   ]
  },
  {
   "cell_type": "code",
   "execution_count": 4,
   "metadata": {
    "colab": {
     "base_uri": "https://localhost:8080/"
    },
    "id": "Qwevex2Gmmm3",
    "outputId": "738058e1-5b50-46c8-fb80-74b1ac0625d5"
   },
   "outputs": [
    {
     "name": "stdout",
     "output_type": "stream",
     "text": [
      "4\n",
      "10\n",
      "1\n",
      "4\n",
      " \n",
      "1 2 3\n",
      "2\n"
     ]
    }
   ],
   "source": [
    "# len/sum/min/max/sorted\n",
    "t = (1,2,3,4)\n",
    "\n",
    "print(len(t))\n",
    "print(sum(t))\n",
    "print(min(t))\n",
    "print(max(t))\n",
    "sorted(t,reverse=True)\n",
    "print(\" \")\n",
    "\n",
    "# count\n",
    "t = (1,2,3,4,5,3)\n",
    "t.count(3)\n",
    "\n",
    "# Tuple unpacking --> Storing all the tuple elements in the variables at once\n",
    "a,b,c = (1,2,3)\n",
    "print(a,b,c)\n",
    "print(b)"
   ]
  },
  {
   "cell_type": "code",
   "execution_count": 5,
   "metadata": {
    "colab": {
     "base_uri": "https://localhost:8080/"
    },
    "id": "6RPuluylqgmE",
    "outputId": "9d711f7d-f413-4979-8c05-44c87484aeb9"
   },
   "outputs": [
    {
     "name": "stdout",
     "output_type": "stream",
     "text": [
      "[6, 8, 10, 12]\n"
     ]
    }
   ],
   "source": [
    "# zip function\n",
    "a = (1,2,3,4)\n",
    "b = (5,6,7,8)\n",
    "\n",
    "tuple(zip(a,b))\n",
    "print([i+j for i,j in zip(a,b)])"
   ]
  },
  {
   "cell_type": "markdown",
   "metadata": {
    "id": "PobcLOXFnNGe"
   },
   "source": [
    "### Difference between Lists and Tuples\n",
    "\n",
    "- Syntax\n",
    "- Mutability\n",
    "- Speed\n",
    "- Memory\n",
    "- Built in functionality\n",
    "- Error prone\n",
    "- Usability\n"
   ]
  },
  {
   "cell_type": "markdown",
   "metadata": {
    "id": "wZfWh6bstK70"
   },
   "source": [
    "# Sets"
   ]
  },
  {
   "cell_type": "code",
   "execution_count": 17,
   "metadata": {},
   "outputs": [
    {
     "name": "stdout",
     "output_type": "stream",
     "text": [
      "{1, 2, 3, (1, 2, 3)}\n"
     ]
    }
   ],
   "source": [
    "# We can add - Tuples in Sets \n",
    "\n",
    "T={(1,2,3),1,2,3}\n",
    "print(T)"
   ]
  },
  {
   "cell_type": "markdown",
   "metadata": {
    "id": "cr172PHQy2sD"
   },
   "source": [
    "### Creating Sets"
   ]
  },
  {
   "cell_type": "code",
   "execution_count": 6,
   "metadata": {
    "colab": {
     "base_uri": "https://localhost:8080/",
     "height": 330
    },
    "id": "0UBYWcTYvmug",
    "outputId": "6758704b-554f-44dd-ad89-06afa5b3b3cc"
   },
   "outputs": [
    {
     "name": "stdout",
     "output_type": "stream",
     "text": [
      "set()\n",
      " \n",
      "{1, 2, 3}\n",
      " \n",
      "{1, 2, 3, 4, 5, 6, (1, 2, 3)}\n",
      " \n",
      "{1, 2, 3}\n",
      " \n",
      "{1, 2, 3, 4}\n"
     ]
    }
   ],
   "source": [
    "# Empty set\n",
    "s={} # This is a empty dictionary\n",
    "s=set()\n",
    "print(s)\n",
    "print(\" \")\n",
    "\n",
    "# 1D\n",
    "s1={1,2,3}\n",
    "print(s1)\n",
    "print(\" \")\n",
    "\n",
    "# 2D\n",
    "# Cannot add set in set because it is mutable\n",
    "# Cannot add list in set because it is mutable\n",
    "\n",
    "# Can add tuple in a set because it is immutable\n",
    "s2={1,2,2,3,4,5,6,(1,2,3)}\n",
    "print(s2)\n",
    "print(\" \")\n",
    "\n",
    "# using type conversion\n",
    "s4=set([1,2,3])\n",
    "print(s4)\n",
    "print(\" \")\n",
    "\n",
    "s5={1,2,3,4,1,2}\n",
    "print(s5)"
   ]
  },
  {
   "cell_type": "code",
   "execution_count": 10,
   "metadata": {
    "colab": {
     "base_uri": "https://localhost:8080/"
    },
    "id": "VxnwBigY4PsS",
    "outputId": "f999b3c4-549d-4643-8a9e-403d6134c6f1"
   },
   "outputs": [
    {
     "name": "stdout",
     "output_type": "stream",
     "text": [
      "True\n"
     ]
    }
   ],
   "source": [
    "# Sets are unordered so if the elements in the two sets are same then they are treated as equal\n",
    "s1={1,2,3}\n",
    "s2={3,2,1}\n",
    "print(s1==s2)"
   ]
  },
  {
   "cell_type": "markdown",
   "metadata": {
    "id": "5xsL5JF-zLkI"
   },
   "source": [
    "### Adding Items"
   ]
  },
  {
   "cell_type": "code",
   "execution_count": 11,
   "metadata": {
    "colab": {
     "base_uri": "https://localhost:8080/"
    },
    "id": "qiRjVBv6zNnO",
    "outputId": "58dbc681-d0c2-48ed-8bc5-62e90b444d7a"
   },
   "outputs": [
    {
     "name": "stdout",
     "output_type": "stream",
     "text": [
      "{1, 2, 3, 4, 5}\n",
      "{1, 2, 3, 4, 5, 6, 7}\n"
     ]
    }
   ],
   "source": [
    "# Add --> Can add single element at a time\n",
    "S={1,2,3,4}\n",
    "S.add(5)\n",
    "print(S)\n",
    "\n",
    "# update --> Can add multiple element at a time\n",
    "S.update([5,6,7])\n",
    "print(S)"
   ]
  },
  {
   "cell_type": "markdown",
   "metadata": {
    "id": "3cRiDI8CzOGL"
   },
   "source": [
    "### Deleting Items"
   ]
  },
  {
   "cell_type": "code",
   "execution_count": 12,
   "metadata": {},
   "outputs": [
    {
     "name": "stdout",
     "output_type": "stream",
     "text": [
      "{1, 2, 3, 4}\n",
      "{1, 2, 3}\n",
      "set()\n"
     ]
    }
   ],
   "source": [
    "s={1,2,3,4,5}\n",
    "\n",
    "# discard --> Returns the same set(no error is shown) if the number does'nt exist.\n",
    "s.discard(5)\n",
    "print(s)\n",
    "\n",
    "# remove --> Returns error if number does'nt exist.\n",
    "s.remove(4)\n",
    "print(s)\n",
    "\n",
    "# pop --> pop all the elements excepts the 1st element.\n",
    "s={1,2,3,4,5}\n",
    "s.pop()\n",
    "\n",
    "# clear --> Clear all the items from the set\n",
    "s.clear()\n",
    "print(s)"
   ]
  },
  {
   "cell_type": "markdown",
   "metadata": {
    "id": "Cil9LKcszP09"
   },
   "source": [
    "### Set Methametical Operation"
   ]
  },
  {
   "cell_type": "code",
   "execution_count": 13,
   "metadata": {
    "colab": {
     "base_uri": "https://localhost:8080/"
    },
    "id": "pC3f28V5zRNG",
    "outputId": "829c6a8d-6f1f-4725-bfe4-43a7385e5647"
   },
   "outputs": [
    {
     "name": "stdout",
     "output_type": "stream",
     "text": [
      "{1, 2, 3, 4, 5, 6, 7, 8}\n",
      " \n",
      "{4, 5}\n",
      " \n",
      "{1, 2, 3}\n",
      "{8, 6, 7}\n",
      " \n",
      "{1, 2, 3, 6, 7, 8}\n",
      " \n",
      "False\n",
      "True\n",
      " \n",
      "1\n",
      "2\n",
      "3\n",
      "4\n",
      "5\n"
     ]
    }
   ],
   "source": [
    "s1={1,2,3,4,5}\n",
    "s2={4,5,6,7,8}\n",
    "\n",
    "# Union --> Addition\n",
    "print(s1 | s2)\n",
    "print(\" \")\n",
    "\n",
    "# Intersection(&) --> print common elements from both the sets\n",
    "print(s1 & s2)\n",
    "print(\" \")\n",
    "\n",
    "# Difference(-) --> prints difference\n",
    "print(s1 - s2)\n",
    "print(s2 - s1)\n",
    "print(\" \")\n",
    "\n",
    "# Symmetric Difference(^) --> print unique elements from both the sets\n",
    "print(s1 ^ s2)\n",
    "print(\" \")\n",
    "\n",
    "# Membership operators\n",
    "print(1 not in s1)\n",
    "print(8 in s2)\n",
    "print(\" \")\n",
    "\n",
    "# Loops\n",
    "for i in s1:\n",
    "  print(i)"
   ]
  },
  {
   "cell_type": "markdown",
   "metadata": {
    "id": "DYP9VCyUzRy_"
   },
   "source": [
    "### Set Functions"
   ]
  },
  {
   "cell_type": "code",
   "execution_count": 14,
   "metadata": {
    "colab": {
     "base_uri": "https://localhost:8080/"
    },
    "id": "pte3wLPM3tcz",
    "outputId": "c25bbd1a-b80b-4787-ab5f-20c51d65d3b0"
   },
   "outputs": [
    {
     "name": "stdout",
     "output_type": "stream",
     "text": [
      "6\n",
      "22\n",
      "1\n",
      "7\n",
      "[7, 5, 4, 3, 2, 1]\n",
      " \n",
      "{1, 2, 3, 4, 5, 6, 7, 8}\n",
      " \n",
      "{4, 5}\n",
      "{4, 5}\n",
      " \n",
      "{1, 2, 3}\n",
      "{1, 2, 3}\n",
      " \n",
      "{1, 2, 3, 6, 7, 8}\n",
      " \n",
      " \n",
      " \n",
      " \n",
      "{1, 2, 3}\n",
      "{1, 2, 3}\n"
     ]
    }
   ],
   "source": [
    "# len/sum/min/max/sorted\n",
    "s={3,1,4,5,2,7}\n",
    "print(len(s))\n",
    "print(sum(s))\n",
    "print(min(s))\n",
    "print(max(s))\n",
    "print(sorted(s,reverse=True))\n",
    "print(\" \")\n",
    "\n",
    "s1={1,2,3,4,5}\n",
    "s2={4,5,6,7,8}\n",
    "\n",
    "# union\n",
    "print(s1.union(s2))\n",
    "print(\" \")\n",
    "\n",
    "# intersection/intersection_update\n",
    "print(s1.intersection(s2))\n",
    "s1.intersection_update(s2) # This will store the intersection result of s1 & s2 in s1\n",
    "print(s1)\n",
    "print(\" \")\n",
    "\n",
    "# difference/difference_update\n",
    "s1={1,2,3,4,5}\n",
    "s2={4,5,6,7,8}\n",
    "\n",
    "print(s1.difference(s2))\n",
    "s1.difference_update(s2) # This will store the difference result of s1 & s2 in s1\n",
    "print(s1)\n",
    "print(\" \")\n",
    "\n",
    "# symmetric_difference/symmetric_difference_update\n",
    "s1={1,2,3,4,5}\n",
    "s2={4,5,6,7,8}\n",
    "\n",
    "s1.symmetric_difference_update(s2) # This will store the symmetric result of s1 & s2 in s1\n",
    "print(s1)\n",
    "print(\" \")\n",
    "\n",
    "# isdisjoint --> The set which has no similar elements to other set\n",
    "s1={1,2,3,4}\n",
    "s2={7,8,5,6}\n",
    "s1.isdisjoint(s2)\n",
    "print(\" \")\n",
    "\n",
    "# issuperset --> The set which contains all the elements of the other set\n",
    "s1={1,2,3,4,5}\n",
    "s2={3,4,5}\n",
    "s1.issuperset(s2)\n",
    "print(\" \")\n",
    "\n",
    "# issubset --> The set which has a superset\n",
    "s1={1,2,3,4,5}\n",
    "s2={3,4,5}\n",
    "s2.issubset(s1)\n",
    "print(\" \")\n",
    "\n",
    "# copy\n",
    "s1={1,2,3}\n",
    "s2=s1.copy()\n",
    "print(s1)\n",
    "print(s2)"
   ]
  },
  {
   "cell_type": "markdown",
   "metadata": {
    "id": "CNkTGbL66HjH"
   },
   "source": [
    "### Frozenset\n",
    "Frozen set is just an immutable version of a Python set object"
   ]
  },
  {
   "cell_type": "code",
   "execution_count": 15,
   "metadata": {
    "colab": {
     "base_uri": "https://localhost:8080/"
    },
    "id": "Y5tjnO97JWZW",
    "outputId": "8cf9b1c2-a725-4101-abdf-05b1e32f39fa"
   },
   "outputs": [
    {
     "name": "stdout",
     "output_type": "stream",
     "text": [
      "frozenset({1, 2, 3, 4, 5})\n",
      "frozenset({frozenset({3, 4}), 1, 2})\n"
     ]
    }
   ],
   "source": [
    "# create frozenset\n",
    "fs1=frozenset([1,2,3])\n",
    "fs2=frozenset([3,4,5])\n",
    "print(fs1 | fs2)\n",
    "\n",
    "# We use frozenset when we have to perform only read operations.\n",
    "# 2D sets\n",
    "fs=frozenset([1,2,frozenset([3,4])])\n",
    "print(fs)"
   ]
  },
  {
   "cell_type": "markdown",
   "metadata": {
    "id": "KcTsyq3G6Qkr"
   },
   "source": [
    "### Set Comprehension"
   ]
  },
  {
   "cell_type": "code",
   "execution_count": 16,
   "metadata": {
    "colab": {
     "base_uri": "https://localhost:8080/"
    },
    "id": "yvPmmWDm6SR8",
    "outputId": "c7aea44e-d2b7-4235-935d-da131a677297"
   },
   "outputs": [
    {
     "data": {
      "text/plain": [
       "{36, 49, 64, 81, 100}"
      ]
     },
     "execution_count": 16,
     "metadata": {},
     "output_type": "execute_result"
    }
   ],
   "source": [
    "{i**2 for i in range(1,11) if i>5}"
   ]
  },
  {
   "cell_type": "markdown",
   "metadata": {
    "id": "RCm5fDCfKPx-"
   },
   "source": [
    "# Dictionary "
   ]
  },
  {
   "cell_type": "markdown",
   "metadata": {
    "id": "_Q7jlDV3MJ27"
   },
   "source": [
    "### Create Dictionary"
   ]
  },
  {
   "cell_type": "code",
   "execution_count": 17,
   "metadata": {
    "colab": {
     "base_uri": "https://localhost:8080/"
    },
    "id": "XJhTncGKMI-q",
    "outputId": "a28cacd1-4786-4f40-b2e0-c97c66dfb354"
   },
   "outputs": [
    {
     "name": "stdout",
     "output_type": "stream",
     "text": [
      "{}\n",
      " \n",
      "{'name': 'Divyang', 'gender': 'male'}\n",
      " \n",
      "{(1, 2, 3): 1, 'hello': 'world'}\n",
      " \n",
      "{'name': 'Divyang', 'college': 'PIET', 'sem': 7, 'subjects': {'dsa': 50, 'maths': 67, 'english': 34}}\n",
      " \n",
      "{'name': 'Divyang', 'age': 21, 3: 3}\n",
      " \n",
      "{'name': 'rahul'}\n"
     ]
    }
   ],
   "source": [
    "# Empty dictionary\n",
    "d={}\n",
    "print(d)\n",
    "print(\" \")\n",
    "\n",
    "# 1D dictionary\n",
    "d1={'name' : 'Divyang' ,'gender' : 'male' }\n",
    "print(d1)\n",
    "print(\" \")\n",
    "\n",
    "# with mixed keys\n",
    "d2={(1,2,3):1,'hello':'world'}\n",
    "print(d2)\n",
    "print(\" \")\n",
    "\n",
    "# 2D dictionary -> JSON\n",
    "s={'name':'Divyang', 'college':'PIET', 'sem':7, 'subjects':{'dsa':50, 'maths':67, 'english':34}}\n",
    "print(s)\n",
    "print(\" \")\n",
    "\n",
    "# using sequence and dict function\n",
    "d4=dict([('name','Divyang'),('age',21),(3,3)])\n",
    "print(d4)\n",
    "print(\" \")\n",
    "\n",
    "# duplicate keys\n",
    "d5={'name':'Divyang','name':'rahul'}\n",
    "print(d5)"
   ]
  },
  {
   "cell_type": "markdown",
   "metadata": {
    "id": "VtB-Bu1aNVyq"
   },
   "source": [
    "### Accessing items"
   ]
  },
  {
   "cell_type": "code",
   "execution_count": 18,
   "metadata": {
    "colab": {
     "base_uri": "https://localhost:8080/"
    },
    "id": "D3uTSjsJJ9rM",
    "outputId": "f3009629-7652-409e-a873-7e3039c170d1"
   },
   "outputs": [
    {
     "name": "stdout",
     "output_type": "stream",
     "text": [
      "22\n",
      "Div\n",
      " \n",
      "67\n",
      "{'dsa': 50, 'maths': 67, 'english': 34}\n"
     ]
    }
   ],
   "source": [
    "# Accessing values in 1-D dictionary\n",
    "my_dict={'name': 'Div', 'age': 22}\n",
    "print(my_dict['age'])\n",
    "print(my_dict.get('name'))\n",
    "print(\" \")\n",
    "\n",
    "# Accessing values in 2-D dictionary\n",
    "s={'name':'Divyang', 'college':'PIET', 'sem':7, 'subjects':{'dsa':50, 'maths':67, 'english':34}}\n",
    "print(s['subjects']['maths'])\n",
    "print(s['subjects'])"
   ]
  },
  {
   "cell_type": "markdown",
   "metadata": {
    "id": "MOwj3gUfOLCM"
   },
   "source": [
    "### Addition & Deletion of key-value pair"
   ]
  },
  {
   "cell_type": "code",
   "execution_count": 19,
   "metadata": {
    "colab": {
     "base_uri": "https://localhost:8080/"
    },
    "id": "N-pawGZ7Nall",
    "outputId": "6573b1c8-1701-4ff2-949b-c78b235cbe14"
   },
   "outputs": [
    {
     "name": "stdout",
     "output_type": "stream",
     "text": [
      "{'name': 'Divyang', 'age': 21, 3: 3, 'gender': 'male'}\n",
      "{'name': 'Divyang', 'age': 21, 3: 3, 'gender': 'male', 'weight': 72}\n",
      " \n",
      "{'name': 'Div', 'age': 21, 3: 3, 'weight': 72}\n",
      "{'name': 'Div', 'age': 21, 3: 3}\n",
      "{'age': 21, 3: 3}\n",
      "{}\n"
     ]
    }
   ],
   "source": [
    "# Addition\n",
    "d4=dict([('name','Divyang'),('age',21),(3,3)])\n",
    "d4['gender']='male'\n",
    "print(d4)\n",
    "\n",
    "d4['weight']=72\n",
    "print(d4)\n",
    "print(\" \")\n",
    "\n",
    "# pop\n",
    "d={'name': 'Div', 'age': 21, 3: 3, 'gender': 'male', 'weight': 72}\n",
    "d.pop('gender')\n",
    "print(d)\n",
    "\n",
    "d.popitem()\n",
    "print(d)\n",
    "\n",
    "# del\n",
    "del d['name']\n",
    "print(d)\n",
    "\n",
    "# clear\n",
    "d.clear()\n",
    "print(d)"
   ]
  },
  {
   "cell_type": "markdown",
   "metadata": {},
   "source": [
    "### Loops & Membership operators"
   ]
  },
  {
   "cell_type": "code",
   "execution_count": 20,
   "metadata": {
    "colab": {
     "base_uri": "https://localhost:8080/"
    },
    "id": "GFjUam63Ewmy",
    "outputId": "6833bf3d-cc32-4aa0-9d6b-98df6252bc25"
   },
   "outputs": [
    {
     "name": "stdout",
     "output_type": "stream",
     "text": [
      "name : Div\n",
      "gender : male\n",
      "age : 33\n"
     ]
    }
   ],
   "source": [
    "d={'name':'Div','gender':'male','age':33}\n",
    "for i in d:\n",
    "    print(i, ':' ,d[i])"
   ]
  },
  {
   "cell_type": "markdown",
   "metadata": {
    "id": "BoCoYK3aPeaz"
   },
   "source": [
    "### Dictionary Functions"
   ]
  },
  {
   "cell_type": "code",
   "execution_count": 21,
   "metadata": {
    "colab": {
     "base_uri": "https://localhost:8080/",
     "height": 53
    },
    "id": "qNQRKD_HPhEO",
    "outputId": "f828de9c-b454-4b70-d9ff-cc341837387d"
   },
   "outputs": [
    {
     "name": "stdout",
     "output_type": "stream",
     "text": [
      "3\n",
      "['name', 'gender', 'age']\n",
      "name\n",
      "age\n",
      " \n",
      "dict_items([('name', 'Div'), ('gender', 'male'), ('age', 33)])\n",
      "dict_keys(['name', 'gender', 'age'])\n",
      "dict_values(['Div', 'male', 33])\n",
      " \n",
      "{1: 2, 3: 4, 4: 7, 6: 8}\n"
     ]
    }
   ],
   "source": [
    "d={'name':'Div','gender':'male','age':33}\n",
    "\n",
    "# len/sorted/max/min\n",
    "print(len(d))\n",
    "print(sorted(d,reverse=True))\n",
    "print(max(d))\n",
    "print(min(d))\n",
    "print(\" \")\n",
    "\n",
    "# items/keys/values\n",
    "print(d.items())\n",
    "print(d.keys())\n",
    "print(d.values())\n",
    "print(\" \")\n",
    "\n",
    "# update\n",
    "d1={1:2,3:4,4:5}\n",
    "d2={4:7,6:8}\n",
    "d1.update(d2)\n",
    "print(d1)"
   ]
  },
  {
   "cell_type": "markdown",
   "metadata": {},
   "source": [
    "# Dictionary Comprehension"
   ]
  },
  {
   "cell_type": "code",
   "execution_count": 22,
   "metadata": {
    "colab": {
     "base_uri": "https://localhost:8080/"
    },
    "id": "WJU0PdkMPlI-",
    "outputId": "1f7f09c4-fccd-46b9-a45c-eb7f84ac2fdf"
   },
   "outputs": [
    {
     "data": {
      "text/plain": [
       "{1: 1, 2: 4, 3: 9, 4: 16, 5: 25, 6: 36, 7: 49, 8: 64, 9: 81, 10: 100}"
      ]
     },
     "execution_count": 22,
     "metadata": {},
     "output_type": "execute_result"
    }
   ],
   "source": [
    "# print 1st 10 numbers and their squares\n",
    "{i:i**2 for i in range(1,11)}"
   ]
  },
  {
   "cell_type": "code",
   "execution_count": 23,
   "metadata": {
    "colab": {
     "base_uri": "https://localhost:8080/"
    },
    "id": "DTkWYdjJGwJA",
    "outputId": "66f3c7bf-c4e2-4272-b9fa-a686d5c8ef8d"
   },
   "outputs": [
    {
     "name": "stdout",
     "output_type": "stream",
     "text": [
      "dict_items([('delhi', 1000), ('mumbai', 2000), ('bangalore', 3000)])\n"
     ]
    }
   ],
   "source": [
    "distances={'delhi':1000,'mumbai':2000,'bangalore':3000}\n",
    "print(distances.items())"
   ]
  },
  {
   "cell_type": "code",
   "execution_count": 24,
   "metadata": {
    "colab": {
     "base_uri": "https://localhost:8080/"
    },
    "id": "9xxl81NfSMhp",
    "outputId": "ab8cd682-1461-4ef3-ce88-55fc327ad21e"
   },
   "outputs": [
    {
     "data": {
      "text/plain": [
       "{'delhi': 620.0, 'mumbai': 1240.0, 'bangalore': 1860.0}"
      ]
     },
     "execution_count": 24,
     "metadata": {},
     "output_type": "execute_result"
    }
   ],
   "source": [
    "# using existing dict\n",
    "distances={'delhi':1000,'mumbai':2000,'bangalore':3000}\n",
    "{key:value*0.62 for (key,value) in distances.items()}"
   ]
  },
  {
   "cell_type": "code",
   "execution_count": 25,
   "metadata": {
    "colab": {
     "base_uri": "https://localhost:8080/"
    },
    "id": "Oka8jR26S1P3",
    "outputId": "01c0c6b2-2384-46f9-d2d1-950f68feaa0a"
   },
   "outputs": [
    {
     "data": {
      "text/plain": [
       "{'Sunday': 30.5,\n",
       " 'Monday': 32.6,\n",
       " 'Tuesday': 31.8,\n",
       " 'Wednesday': 33.4,\n",
       " 'Thursday': 29.8,\n",
       " 'Friday': 30.2,\n",
       " 'Saturday': 29.9}"
      ]
     },
     "execution_count": 25,
     "metadata": {},
     "output_type": "execute_result"
    }
   ],
   "source": [
    "# using zip\n",
    "days=[\"Sunday\", \"Monday\",\"Tuesday\",\"Wednesday\",\"Thursday\",\"Friday\",\"Saturday\"]\n",
    "temp_C=[30.5,32.6,31.8,33.4,29.8,30.2,29.9]\n",
    "\n",
    "{i:j for (i,j) in zip(days,temp_C)}"
   ]
  },
  {
   "cell_type": "code",
   "execution_count": 26,
   "metadata": {
    "colab": {
     "base_uri": "https://localhost:8080/"
    },
    "id": "5hmmxub7TucD",
    "outputId": "3664bf2b-da08-40a6-e564-8843433e4256"
   },
   "outputs": [
    {
     "data": {
      "text/plain": [
       "{'phone': 10, 'charger': 32}"
      ]
     },
     "execution_count": 26,
     "metadata": {},
     "output_type": "execute_result"
    }
   ],
   "source": [
    "# using if condition\n",
    "products={'phone':10,'laptop':0,'charger':32,'tablet':0}\n",
    "{key:value for (key,value) in products.items() if value>0}"
   ]
  },
  {
   "cell_type": "code",
   "execution_count": 27,
   "metadata": {
    "colab": {
     "base_uri": "https://localhost:8080/"
    },
    "id": "8c8zvF_sUHdh",
    "outputId": "d656f1b3-ef00-4d2f-d4ad-c3ded602fc32"
   },
   "outputs": [
    {
     "data": {
      "text/plain": [
       "{2: {1: 2, 2: 4, 3: 6, 4: 8, 5: 10, 6: 12, 7: 14, 8: 16, 9: 18, 10: 20},\n",
       " 3: {1: 3, 2: 6, 3: 9, 4: 12, 5: 15, 6: 18, 7: 21, 8: 24, 9: 27, 10: 30},\n",
       " 4: {1: 4, 2: 8, 3: 12, 4: 16, 5: 20, 6: 24, 7: 28, 8: 32, 9: 36, 10: 40}}"
      ]
     },
     "execution_count": 27,
     "metadata": {},
     "output_type": "execute_result"
    }
   ],
   "source": [
    "# Nested Comprehension\n",
    "# print tables of number from 2 to 4\n",
    "{i:{j:i*j for j in range(1,11)} for i in range(2,5)}"
   ]
  },
  {
   "cell_type": "code",
   "execution_count": 28,
   "metadata": {
    "id": "Ayx0R1F3UhLW"
   },
   "outputs": [
    {
     "data": {
      "text/plain": [
       "{2: {1: 2, 2: 4, 3: 6, 4: 8},\n",
       " 3: {1: 3, 2: 6, 3: 9, 4: 12},\n",
       " 4: {1: 4, 2: 8, 3: 12, 4: 16}}"
      ]
     },
     "execution_count": 28,
     "metadata": {},
     "output_type": "execute_result"
    }
   ],
   "source": [
    "{\n",
    "    2:{1:2,2:4,3:6,4:8},\n",
    "    3:{1:3,2:6,3:9,4:12},\n",
    "    4:{1:4,2:8,3:12,4:16}\n",
    "}"
   ]
  },
  {
   "cell_type": "code",
   "execution_count": null,
   "metadata": {},
   "outputs": [],
   "source": []
  }
 ],
 "metadata": {
  "colab": {
   "provenance": []
  },
  "kernelspec": {
   "display_name": "Python 3 (ipykernel)",
   "language": "python",
   "name": "python3"
  },
  "language_info": {
   "codemirror_mode": {
    "name": "ipython",
    "version": 3
   },
   "file_extension": ".py",
   "mimetype": "text/x-python",
   "name": "python",
   "nbconvert_exporter": "python",
   "pygments_lexer": "ipython3",
   "version": "3.11.3"
  }
 },
 "nbformat": 4,
 "nbformat_minor": 1
}
