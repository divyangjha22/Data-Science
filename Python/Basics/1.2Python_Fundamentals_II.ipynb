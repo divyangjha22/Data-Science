{
 "cells": [
  {
   "cell_type": "markdown",
   "id": "1a266521",
   "metadata": {},
   "source": [
    "# Operators in Python\n",
    "\n",
    "Arithmetic Operators\n",
    "\n",
    "Relational Operators\n",
    "\n",
    "Logical Operators\n",
    "\n",
    "Bitwise Operators\n",
    "\n",
    "Assignment Operators\n",
    "\n",
    "Membership Operators"
   ]
  },
  {
   "cell_type": "code",
   "execution_count": 1,
   "id": "74ee6e70",
   "metadata": {},
   "outputs": [
    {
     "name": "stdout",
     "output_type": "stream",
     "text": [
      "11\n",
      "-1\n",
      "30\n",
      "2.5\n",
      "2\n",
      "1\n",
      "125\n"
     ]
    }
   ],
   "source": [
    "# Arithmetric Operators\n",
    "print(5+6) # Addition\n",
    "print(5-6) # Subtraction\n",
    "print(5*6) # Multiplication\n",
    "print(5/2) # Division\n",
    "print(5//2)# Integer division- First perform division operation & then convert the result into a integer.\n",
    "print(5%2) # Modulus\n",
    "print(5**3) # power of n-5*5*5"
   ]
  },
  {
   "cell_type": "code",
   "execution_count": 2,
   "id": "02b874f9",
   "metadata": {},
   "outputs": [
    {
     "name": "stdout",
     "output_type": "stream",
     "text": [
      "False\n",
      "True\n",
      "True\n",
      "True\n",
      "True\n",
      "False\n"
     ]
    }
   ],
   "source": [
    "# Relational Operators-comparision\n",
    "print(4>5)\n",
    "print(4<5)\n",
    "print(4>=4)\n",
    "print(4<=4)\n",
    "print(4==4)\n",
    "print(4!=4)"
   ]
  },
  {
   "cell_type": "code",
   "execution_count": 3,
   "id": "b6d9651d",
   "metadata": {},
   "outputs": [
    {
     "name": "stdout",
     "output_type": "stream",
     "text": [
      "0\n",
      "1\n",
      "False\n"
     ]
    }
   ],
   "source": [
    "# Logical Operators\n",
    "print(1 and 0)\n",
    "print(1 or 0)\n",
    "print(not 1)"
   ]
  },
  {
   "cell_type": "code",
   "execution_count": 4,
   "id": "5a74c777",
   "metadata": {},
   "outputs": [
    {
     "name": "stdout",
     "output_type": "stream",
     "text": [
      "2\n",
      "3\n",
      "1\n",
      "-4\n",
      "1\n",
      "20\n"
     ]
    }
   ],
   "source": [
    "# Bitwise Operators- operates on binary numbers\n",
    "\n",
    "# bitwise and\n",
    "print(2 & 3)\n",
    "\n",
    "# bitwise or\n",
    "print(2 | 3)\n",
    "\n",
    "# bitwise xor\n",
    "print(2 ^ 3)\n",
    "\n",
    "# bitwise not\n",
    "print(~3)\n",
    "\n",
    "# left shift\n",
    "print(4 >> 2)\n",
    "\n",
    "# right shift\n",
    "print(5 << 2)"
   ]
  },
  {
   "cell_type": "code",
   "execution_count": 5,
   "id": "d7652ad0",
   "metadata": {},
   "outputs": [
    {
     "name": "stdout",
     "output_type": "stream",
     "text": [
      "0\n"
     ]
    }
   ],
   "source": [
    "# Assignment Operators\n",
    "a = 2\n",
    "a %= 2\n",
    "# a+=2\n",
    "# a*=2\n",
    "# a-=2\n",
    "# a/=2\n",
    "print(a)"
   ]
  },
  {
   "cell_type": "code",
   "execution_count": 6,
   "id": "aec24a34",
   "metadata": {},
   "outputs": [
    {
     "name": "stdout",
     "output_type": "stream",
     "text": [
      "False\n",
      "False\n"
     ]
    }
   ],
   "source": [
    "# Membership Operators\n",
    "\n",
    "# in/not in\n",
    "\n",
    "print('D' not in 'Delhi')\n",
    "\n",
    "print(1 in [2,3,4,5,6])"
   ]
  },
  {
   "cell_type": "code",
   "execution_count": 7,
   "id": "6929b2a7",
   "metadata": {},
   "outputs": [
    {
     "name": "stdout",
     "output_type": "stream",
     "text": [
      "Enter a 3 digit number: 3\n",
      "The sum of the 3 digit number is  3\n"
     ]
    }
   ],
   "source": [
    "# Program to print the sum of a 3 digit number entered by the user.\n",
    "a=int(input(\"Enter a 3 digit number: \"))\n",
    "\n",
    "third=a%10\n",
    "a=a//10\n",
    "\n",
    "second=a%10\n",
    "a=a//10 # Integer division- suppose the number is 123 then  a//b =12.3 & then it will convert into integer ie. 12\n",
    "\n",
    "first=a%10\n",
    "a=a//10\n",
    "\n",
    "sum=first+second+third\n",
    "\n",
    "print(\"The sum of the 3 digit number is \", sum)"
   ]
  },
  {
   "cell_type": "markdown",
   "id": "10769490",
   "metadata": {},
   "source": [
    "# If-else Statement\n",
    "    "
   ]
  },
  {
   "cell_type": "code",
   "execution_count": 8,
   "id": "8a359a56",
   "metadata": {},
   "outputs": [
    {
     "name": "stdout",
     "output_type": "stream",
     "text": [
      "Enter email: 3\n",
      "Enter password: 3\n",
      "Not correct\n"
     ]
    }
   ],
   "source": [
    "# login program and indentation\n",
    "email = input('Enter email: ')\n",
    "password = input('Enter password: ')\n",
    "\n",
    "if email == 'divyangjha22@gmail.com' and password == '1234':\n",
    "  print('Welcome')\n",
    "elif email == 'divyangjha22@gmail.com' and password != '1234':\n",
    "  print('Incorrect password')\n",
    "  password = input('Enter password again: ')\n",
    "  if password == '1234':\n",
    "    print('Welcome')\n",
    "  else:\n",
    "    print('Try again later!')\n",
    "else:\n",
    "  print('Not correct')"
   ]
  },
  {
   "cell_type": "code",
   "execution_count": 9,
   "id": "a30eddb9",
   "metadata": {},
   "outputs": [
    {
     "name": "stdout",
     "output_type": "stream",
     "text": [
      "Enter the number: 4\n",
      "Enter the number: 4\n",
      "Enter the number: 4\n",
      "4 is the minimum number\n"
     ]
    }
   ],
   "source": [
    "# Program to find minimum number entered by the user\n",
    "a=int(input(\"Enter the number: \"))\n",
    "b=int(input(\"Enter the number: \"))\n",
    "c=int(input(\"Enter the number: \"))\n",
    "\n",
    "if a<b and b<c:\n",
    "    print(a, \"is the minimum number\")\n",
    "elif b<a and a<c:\n",
    "    print(b, \"is the minimum number\")\n",
    "else:\n",
    "    print(c, \"is the minimum number\")"
   ]
  },
  {
   "cell_type": "code",
   "execution_count": 10,
   "id": "46ce1deb",
   "metadata": {},
   "outputs": [
    {
     "name": "stdout",
     "output_type": "stream",
     "text": [
      "\n",
      "Hi! how can I help you.\n",
      "1.) Enter 1 for pin change\n",
      "2.) Enter 2 for balance check\n",
      "3.) Enter 3 for withdrawl\n",
      "4.) Enter 4 for exit\n",
      "4\n",
      "exit\n"
     ]
    }
   ],
   "source": [
    "# Menu driven program\n",
    "menu = input(\"\"\"\n",
    "Hi! how can I help you.\n",
    "1.) Enter 1 for pin change\n",
    "2.) Enter 2 for balance check\n",
    "3.) Enter 3 for withdrawl\n",
    "4.) Enter 4 for exit\n",
    "\"\"\")\n",
    "\n",
    "if menu == '1':\n",
    "  print('pin change')\n",
    "elif menu == '2':\n",
    "  print('balance check')\n",
    "elif menu=='3':\n",
    "  print('Widthdrawl')\n",
    "else:\n",
    "  print('exit') "
   ]
  },
  {
   "cell_type": "markdown",
   "id": "c3b0131c",
   "metadata": {},
   "source": [
    "# Modules in Python\n",
    "- math\n",
    "- keywords\n",
    "- random\n",
    "- datetime"
   ]
  },
  {
   "cell_type": "code",
   "execution_count": 11,
   "id": "c7341cba",
   "metadata": {},
   "outputs": [
    {
     "data": {
      "text/plain": [
       "14.0"
      ]
     },
     "execution_count": 11,
     "metadata": {},
     "output_type": "execute_result"
    }
   ],
   "source": [
    "# math\n",
    "import math\n",
    "\n",
    "math.sqrt(196)"
   ]
  },
  {
   "cell_type": "code",
   "execution_count": 12,
   "id": "01986d5b",
   "metadata": {},
   "outputs": [
    {
     "name": "stdout",
     "output_type": "stream",
     "text": [
      "['False', 'None', 'True', 'and', 'as', 'assert', 'async', 'await', 'break', 'class', 'continue', 'def', 'del', 'elif', 'else', 'except', 'finally', 'for', 'from', 'global', 'if', 'import', 'in', 'is', 'lambda', 'nonlocal', 'not', 'or', 'pass', 'raise', 'return', 'try', 'while', 'with', 'yield']\n"
     ]
    }
   ],
   "source": [
    "# keyword\n",
    "import keyword\n",
    "print(keyword.kwlist)"
   ]
  },
  {
   "cell_type": "code",
   "execution_count": 13,
   "id": "f427308a",
   "metadata": {},
   "outputs": [
    {
     "name": "stdout",
     "output_type": "stream",
     "text": [
      "25\n"
     ]
    }
   ],
   "source": [
    "# random\n",
    "import random\n",
    "print(random.randint(1,100))"
   ]
  },
  {
   "cell_type": "code",
   "execution_count": 14,
   "id": "c244010d",
   "metadata": {},
   "outputs": [
    {
     "name": "stdout",
     "output_type": "stream",
     "text": [
      "2023-10-12 11:13:07.612972\n"
     ]
    }
   ],
   "source": [
    "# datetime\n",
    "import datetime\n",
    "print(datetime.datetime.now())"
   ]
  },
  {
   "cell_type": "code",
   "execution_count": 15,
   "id": "17aa6fbe",
   "metadata": {},
   "outputs": [
    {
     "name": "stdout",
     "output_type": "stream",
     "text": [
      "\n",
      "Please wait a moment while I gather a list of all available modules...\n",
      "\n",
      "test_sqlite3: testing with version '2.6.0', sqlite_version '3.40.1'\n"
     ]
    },
    {
     "name": "stderr",
     "output_type": "stream",
     "text": [
      "C:\\Users\\Dell\\AppData\\Local\\Programs\\Python\\Python311\\Lib\\site-packages\\nltk\\twitter\\__init__.py:20: UserWarning: The twython library has not been installed. Some functionality from the twitter package will not be available.\n",
      "  warnings.warn(\n",
      "C:\\Users\\Dell\\AppData\\Local\\Programs\\Python\\Python311\\Lib\\site-packages\\notebook\\utils.py:280: DeprecationWarning: distutils Version classes are deprecated. Use packaging.version instead.\n",
      "  return LooseVersion(v) >= LooseVersion(check)\n",
      "C:\\Users\\Dell\\AppData\\Local\\Programs\\Python\\Python311\\Lib\\site-packages\\notebook\\utils.py:280: DeprecationWarning: distutils Version classes are deprecated. Use packaging.version instead.\n",
      "  return LooseVersion(v) >= LooseVersion(check)\n",
      "C:\\Users\\Dell\\AppData\\Local\\Programs\\Python\\Python311\\Lib\\pkgutil.py:92: UserWarning: The numpy.array_api submodule is still experimental. See NEP 47.\n",
      "  __import__(info.name)\n",
      "C:\\Users\\Dell\\AppData\\Local\\Programs\\Python\\Python311\\Lib\\pkgutil.py:92: DeprecationWarning: \n",
      "\n",
      "  `numpy.distutils` is deprecated since NumPy 1.23.0, as a result\n",
      "  of the deprecation of `distutils` itself. It will be removed for\n",
      "  Python >= 3.12. For older Python versions it will remain present.\n",
      "  It is recommended to use `setuptools < 60.0` for those Python versions.\n",
      "  For more details, see:\n",
      "    https://numpy.org/devdocs/reference/distutils_status_migration.html \n",
      "\n",
      "\n",
      "  __import__(info.name)\n",
      "C:\\Users\\Dell\\AppData\\Local\\Programs\\Python\\Python311\\Lib\\site-packages\\visions\\utils\\monkeypatches\\imghdr_patch.py:2: DeprecationWarning: 'imghdr' is deprecated and slated for removal in Python 3.13\n",
      "  from imghdr import tests\n",
      "C:\\Users\\Dell\\AppData\\Local\\Programs\\Python\\Python311\\Lib\\site-packages\\_distutils_hack\\__init__.py:33: UserWarning: Setuptools is replacing distutils.\n",
      "  warnings.warn(\"Setuptools is replacing distutils.\")\n",
      "C:\\Users\\Dell\\AppData\\Local\\Programs\\Python\\Python311\\Lib\\pkgutil.py:92: DeprecationWarning: pkg_resources is deprecated as an API. See https://setuptools.pypa.io/en/latest/pkg_resources.html\n",
      "  __import__(info.name)\n",
      "C:\\Users\\Dell\\AppData\\Local\\Programs\\Python\\Python311\\Lib\\site-packages\\pip\\_vendor\\pkg_resources\\__init__.py:2871: DeprecationWarning: Deprecated call to `pkg_resources.declare_namespace('mpl_toolkits')`.\n",
      "Implementing implicit namespace packages (as specified in PEP 420) is preferred to `pkg_resources.declare_namespace`. See https://setuptools.pypa.io/en/latest/references/keywords.html#keyword-namespace-packages\n",
      "  declare_namespace(pkg)\n",
      "C:\\Users\\Dell\\AppData\\Local\\Programs\\Python\\Python311\\Lib\\site-packages\\pip\\_vendor\\pkg_resources\\__init__.py:2871: DeprecationWarning: Deprecated call to `pkg_resources.declare_namespace('google')`.\n",
      "Implementing implicit namespace packages (as specified in PEP 420) is preferred to `pkg_resources.declare_namespace`. See https://setuptools.pypa.io/en/latest/references/keywords.html#keyword-namespace-packages\n",
      "  declare_namespace(pkg)\n",
      "C:\\Users\\Dell\\AppData\\Local\\Programs\\Python\\Python311\\Lib\\site-packages\\setuptools\\command\\build_ext.py:8: DeprecationWarning:\n",
      "\n",
      "The distutils package is deprecated and slated for removal in Python 3.12. Use setuptools or check PEP 632 for potential alternatives\n",
      "\n",
      "C:\\Users\\Dell\\AppData\\Local\\Programs\\Python\\Python311\\Lib\\distutils\\command\\build_ext.py:13: DeprecationWarning:\n",
      "\n",
      "The distutils.sysconfig module is deprecated, use sysconfig instead\n",
      "\n"
     ]
    },
    {
     "name": "stdout",
     "output_type": "stream",
     "text": [
      "IPython             cmd                 nbclassic           string\n",
      "PIL                 code                nbclient            stringprep\n",
      "__future__          codecs              nbconvert           struct\n",
      "__hello__           codeop              nbformat            subprocess\n",
      "__phello__          collections         nest_asyncio        sunau\n",
      "_abc                colorama            netbios             symtable\n",
      "_aix_support        colorsys            netrc               sys\n",
      "_argon2_cffi_bindings comm                nets                sysconfig\n",
      "_ast                commctrl            networkx            tabnanny\n",
      "_asyncio            commonmark          nltk                tangled_up_in_unicode\n",
      "_bisect             compileall          nntplib             tarfile\n",
      "_blake2             concurrent          notebook            telnetlib\n",
      "_bootsubprocess     configparser        notebook_shim       tempfile\n",
      "_bz2                contextlib          nt                  tenacity\n",
      "_cffi_backend       contextvars         ntpath              tensorflow_io\n",
      "_codecs             contourpy           ntsecuritycon       tensorflow_models\n",
      "_codecs_cn          copy                nturl2path          terminado\n",
      "_codecs_hk          copyreg             numbers             test\n",
      "_codecs_iso2022     crypt               numpy               test_brownout\n",
      "_codecs_jp          csv                 object_detection    textblob\n",
      "_codecs_kr          ctypes              odbc                textwrap\n",
      "_codecs_tw          curses              official            this\n",
      "_collections        cv2                 opcode              threading\n",
      "_collections_abc    cycler              openpyxl            threadpoolctl\n",
      "_compat_pickle      dataclasses         operator            time\n",
      "_compression        datasets            optparse            timeit\n",
      "_contextvars        datetime            orbit               timer\n",
      "_csv                dateutil            os                  tinycss2\n",
      "_ctypes             dbi                 overrides           tkinter\n",
      "_ctypes_test        dbm                 packaging           tlz\n",
      "_datetime           dde                 pandas              token\n",
      "_decimal            debugpy             pandas_profiling    tokenize\n",
      "_distutils_hack     decimal             pandocfilters       toml\n",
      "_elementtree        decorator           parso               tomllib\n",
      "_functools          defusedxml          pathlib             toolz\n",
      "_hashlib            deployment          pdb                 tornado\n",
      "_heapq              difflib             perfmon             tqdm\n",
      "_imp                dis                 phik                trace\n",
      "_io                 distutils           pickle              traceback\n",
      "_json               doctest             pickleshare         tracemalloc\n",
      "_locale             dotenv              pickletools         traitlets\n",
      "_lsprof             email               pip                 tty\n",
      "_lzma               encodings           pipes               turtle\n",
      "_markupbase         ensurepip           pkg_resources       turtledemo\n",
      "_md5                entrypoints         pkgutil             types\n",
      "_msi                enum                platform            typing\n",
      "_multibytecodec     errno               platformdirs        typing_extensions\n",
      "_multiprocessing    et_xmlfile          plistlib            tzdata\n",
      "_opcode             executing           plotly              tzlocal\n",
      "_operator           fastjsonschema      poplib              unicodedata\n",
      "_osx_support        faulthandler        posixpath           unittest\n",
      "_overlapped         filecmp             pprint              uri_template\n",
      "_pickle             fileinput           preprocessing       uritools\n",
      "_plotly_future_     filelock            profile             urlextract\n",
      "_plotly_utils       flask               prometheus_client   urllib\n",
      "_py_abc             fnmatch             prompt_toolkit      urllib3\n",
      "_pydecimal          fontTools           pstats              uu\n",
      "_pyio               fqdn                psutil              uuid\n",
      "_pyrsistent_version fractions           pty                 validators\n",
      "_queue              ftplib              pure_eval           venv\n",
      "_random             functools           pvectorc            visions\n",
      "_sha1               gc                  py_compile          warnings\n",
      "_sha256             genericpath         pyarrow             watchdog\n",
      "_sha3               getopt              pyclbr              wave\n",
      "_sha512             getpass             pycparser           wcwidth\n",
      "_signal             gettext             pydantic            weakref\n",
      "_sitebuiltins       git                 pydantic_core       webbrowser\n",
      "_socket             gitdb               pydantic_settings   webcolors\n",
      "_sqlite3            glob                pydeck              webencodings\n",
      "_sre                graphlib            pydoc               websocket\n",
      "_ssl                gzip                pydoc_data          werkzeug\n",
      "_stat               hashlib             pyexpat             widgetsnbextension\n",
      "_statistics         heapq               pygments            win2kras\n",
      "_string             hmac                pylab               win32api\n",
      "_strptime           html                pympler             win32clipboard\n",
      "_struct             htmlmin             pyparsing           win32com\n",
      "_symtable           http                pyrsistent          win32con\n",
      "_testbuffer         idlelib             pythoncom           win32console\n",
      "_testcapi           idna                pythonjsonlogger    win32cred\n",
      "_testconsole        imagehash           pytz                win32crypt\n",
      "_testimportmultiple imaplib             pytz_deprecation_shim win32cryptcon\n",
      "_testinternalcapi   imghdr              pywin               win32event\n",
      "_testmultiphase     imp                 pywin32_bootstrap   win32evtlog\n",
      "_thread             importlib           pywin32_testutil    win32evtlogutil\n",
      "_threading_local    importlib_metadata  pywintypes          win32file\n",
      "_tkinter            inspect             pywt                win32gui\n",
      "_tokenize           io                  qtconsole           win32gui_struct\n",
      "_tracemalloc        ipaddress           qtpy                win32help\n",
      "_typing             ipykernel           queue               win32inet\n",
      "_uuid               ipykernel_launcher  quopri              win32inetcon\n",
      "_warnings           ipython_genutils    random              win32job\n",
      "_weakref            ipywidgets          rasutil             win32lz\n",
      "_weakrefset         isapi               re                  win32net\n",
      "_win32sysloader     isoduration         regcheck            win32netcon\n",
      "_winapi             itertools           regex               win32pdh\n",
      "_winxptheme         itsdangerous        regutil             win32pdhquery\n",
      "_xxsubinterpreters  jedi                reprlib             win32pdhutil\n",
      "_yaml               jinja2              requests            win32pipe\n",
      "_zoneinfo           joblib              rfc3339_validator   win32print\n",
      "abc                 json                rfc3986_validator   win32process\n",
      "adodbapi            jsonpointer         rich                win32profile\n",
      "afxres              jsonschema          rlcompleter         win32ras\n",
      "aifc                jupyter             runpy               win32rcparser\n",
      "altair              jupyter_client      sacrebleu           win32security\n",
      "annotated_types     jupyter_console     sched               win32service\n",
      "antigravity         jupyter_core        scipy               win32serviceutil\n",
      "anyio               jupyter_events      seaborn             win32timezone\n",
      "argon2              jupyter_server      secrets             win32trace\n",
      "argparse            jupyter_server_terminals select              win32traceutil\n",
      "array               jupyterlab_plotly   selectors           win32transaction\n",
      "arrow               jupyterlab_pygments semver              win32ts\n",
      "ast                 jupyterlab_widgets  send2trash          win32ui\n",
      "asttokens           keras               servicemanager      win32uiole\n",
      "asynchat            keyword             setuptools          win32verstamp\n",
      "asyncio             kiwisolver          shelve              win32wnet\n",
      "asyncore            lib2to3             shlex               winerror\n",
      "atexit              linecache           shutil              winioctlcon\n",
      "attr                locale              signal              winnt\n",
      "attrs               logging             site                winperf\n",
      "audioop             lvis                six                 winpty\n",
      "backcall            lxml                sklearn             winreg\n",
      "base64              lzma                smmap               winsound\n",
      "bdb                 mailbox             smtpd               winxpgui\n",
      "binascii            mailcap             smtplib             winxptheme\n",
      "bisect              markupsafe          sndhdr              wordcloud\n",
      "bleach              marshal             sniffio             wsgiref\n",
      "blinker             math                socket              xdrlib\n",
      "bs4                 matplotlib          socketserver        xml\n",
      "builtins            matplotlib_inline   soupsieve           xmlrpc\n",
      "bz2                 mimetypes           sqlite3             xxsubtype\n",
      "cProfile            missingno           sre_compile         yaml\n",
      "cachetools          mistune             sre_constants       zipapp\n",
      "calendar            mlxtend             sre_parse           zipfile\n",
      "certifi             mmap                ssl                 zipimport\n",
      "cffi                mmapfile            sspi                zipp\n",
      "cgi                 mmsystem            sspicon             zlib\n",
      "cgitb               modulefinder        stack_data          zmq\n",
      "charset_normalizer  msilib              start_pythonwin     zoneinfo\n",
      "chunk               msvcrt              stat                ~andas\n",
      "click               multimethod         statistics          \n",
      "cmath               multiprocessing     streamlit           \n",
      "\n",
      "Enter any module name to get more help.  Or, type \"modules spam\" to search\n",
      "for modules whose name or summary contain the string \"spam\".\n",
      "\n"
     ]
    }
   ],
   "source": [
    "help('modules')"
   ]
  },
  {
   "cell_type": "markdown",
   "id": "6b51e0d6",
   "metadata": {},
   "source": [
    "# Loops in Python"
   ]
  },
  {
   "cell_type": "markdown",
   "id": "52babc1f",
   "metadata": {},
   "source": [
    "- While loop example -> program to print the table\n",
    "- Program -> Sum of all digits of a given number\n",
    "- Program -> keep accepting numbers from users till he/she enters a 0 and then find the avg"
   ]
  },
  {
   "cell_type": "code",
   "execution_count": 16,
   "id": "3214ab90",
   "metadata": {},
   "outputs": [
    {
     "name": "stdout",
     "output_type": "stream",
     "text": [
      "Enter the number to print a table: 4\n",
      "4 X 1 = 4\n",
      "4 X 2 = 8\n",
      "4 X 3 = 12\n",
      "4 X 4 = 16\n",
      "4 X 5 = 20\n",
      "4 X 6 = 24\n",
      "4 X 7 = 28\n",
      "4 X 8 = 32\n",
      "4 X 9 = 36\n",
      "4 X 10 = 40\n"
     ]
    }
   ],
   "source": [
    "# Program to print the table using while loop\n",
    "a=int(input(\"Enter the number to print a table: \"))\n",
    "i=1\n",
    "while i<=10:\n",
    "    print(a, \"X\", i, \"=\", a*i)\n",
    "    i=i+1"
   ]
  },
  {
   "cell_type": "code",
   "execution_count": 17,
   "id": "84725709",
   "metadata": {},
   "outputs": [
    {
     "name": "stdout",
     "output_type": "stream",
     "text": [
      "Guess a number between 1 to 100: 4\n",
      "Choose a higher number\n",
      "Guess the number again: 4\n",
      "Choose a higher number\n",
      "Guess the number again: 3\n",
      "Choose a higher number\n",
      "Guess the number again: 50\n",
      "Choose a higher number\n",
      "Guess the number again: 60\n",
      "Choose a higher number\n",
      "Guess the number again: 80\n",
      "Choose a higher number\n",
      "Guess the number again: 90\n",
      "Choose a higher number\n",
      "Guess the number again: 99\n",
      "Choose a lower number\n",
      "Guess the number again: 95\n",
      "Choose a lower number\n",
      "Guess the number again: 92\n",
      "You choose the right number\n",
      "You have taken  10  attempts to guess the correct number.\n"
     ]
    }
   ],
   "source": [
    "# Guessing Game\n",
    "import random\n",
    "number=random.randint(1,100)\n",
    "guess=int(input(\"Guess a number between 1 to 100: \"))\n",
    "counter=1\n",
    "while guess!=number:\n",
    "    if guess<number:\n",
    "        print(\"Choose a higher number\")\n",
    "    elif guess>number:\n",
    "        print(\"Choose a lower number\")\n",
    "        \n",
    "    guess=int(input(\"Guess the number again: \"))\n",
    "    counter+=1\n",
    "else:\n",
    "    print(\"You choose the right number\")\n",
    "    print(\"You have taken \", counter, \" attempts to guess the correct number.\")"
   ]
  },
  {
   "cell_type": "markdown",
   "id": "520fe41c",
   "metadata": {},
   "source": [
    "# For Loop"
   ]
  },
  {
   "cell_type": "code",
   "execution_count": 18,
   "id": "f0ae29e6",
   "metadata": {},
   "outputs": [
    {
     "name": "stdout",
     "output_type": "stream",
     "text": [
      "1\n",
      "2\n",
      "3\n",
      "4\n",
      "5\n",
      "6\n",
      "7\n",
      "8\n",
      "9\n",
      "10\n"
     ]
    }
   ],
   "source": [
    "for i in range(1,11):\n",
    "    print(i)"
   ]
  },
  {
   "cell_type": "code",
   "execution_count": 19,
   "id": "4912b466",
   "metadata": {},
   "outputs": [
    {
     "name": "stdout",
     "output_type": "stream",
     "text": [
      "1\n",
      "3\n",
      "5\n",
      "7\n",
      "9\n"
     ]
    }
   ],
   "source": [
    "for i in range(1,11,2):\n",
    "    print(i)"
   ]
  },
  {
   "cell_type": "code",
   "execution_count": 20,
   "id": "c89107fa",
   "metadata": {},
   "outputs": [
    {
     "name": "stdout",
     "output_type": "stream",
     "text": [
      "10\n",
      "9\n",
      "8\n",
      "7\n",
      "6\n",
      "5\n",
      "4\n",
      "3\n",
      "2\n",
      "1\n"
     ]
    }
   ],
   "source": [
    "for i in range(10,0,-1):\n",
    "    print(i)"
   ]
  },
  {
   "cell_type": "markdown",
   "id": "842273f3",
   "metadata": {},
   "source": [
    "- For loop can perform on all the data types"
   ]
  },
  {
   "cell_type": "code",
   "execution_count": 21,
   "id": "71482003",
   "metadata": {},
   "outputs": [
    {
     "name": "stdout",
     "output_type": "stream",
     "text": [
      "D\n",
      "e\n",
      "l\n",
      "h\n",
      "i\n"
     ]
    }
   ],
   "source": [
    "for i in 'Delhi':\n",
    "    print(i)"
   ]
  },
  {
   "cell_type": "code",
   "execution_count": 22,
   "id": "2e1edaa2",
   "metadata": {},
   "outputs": [
    {
     "name": "stdout",
     "output_type": "stream",
     "text": [
      "1\n",
      "2\n",
      "3\n",
      "4\n",
      "5\n"
     ]
    }
   ],
   "source": [
    "for i in [1,2,3,4,5]:\n",
    "    print(i)"
   ]
  },
  {
   "cell_type": "code",
   "execution_count": 23,
   "id": "16e3b1eb",
   "metadata": {},
   "outputs": [
    {
     "name": "stdout",
     "output_type": "stream",
     "text": [
      "1\n",
      "2\n",
      "3\n",
      "4\n",
      "5\n"
     ]
    }
   ],
   "source": [
    "for i in (1,2,3,4,5):\n",
    "    print(i)"
   ]
  },
  {
   "cell_type": "code",
   "execution_count": 24,
   "id": "f41c1eff",
   "metadata": {},
   "outputs": [
    {
     "name": "stdout",
     "output_type": "stream",
     "text": [
      "1\n",
      "2\n",
      "3\n",
      "4\n",
      "5\n"
     ]
    }
   ],
   "source": [
    "for i in {1,2,3,4,5}:\n",
    "    print(i)"
   ]
  },
  {
   "cell_type": "code",
   "execution_count": 25,
   "id": "6e464b6a",
   "metadata": {},
   "outputs": [
    {
     "name": "stdout",
     "output_type": "stream",
     "text": [
      "10 year:  10000  population\n",
      "9 year:  9000.0  population\n",
      "8 year:  8100.0  population\n",
      "7 year:  7290.0  population\n",
      "6 year:  6561.0  population\n",
      "5 year:  5904.9  population\n",
      "4 year:  5314.41  population\n",
      "3 year:  4782.969  population\n",
      "2 year:  4304.6721  population\n",
      "1 year:  3874.20489  population\n"
     ]
    }
   ],
   "source": [
    "\"\"\"\n",
    "The current population of a town is 10000. The population of the town is increasing\n",
    "at the rate of 10% per year. You have to write a program to find out the population at the end of each\n",
    "of the last 10 years.\n",
    "\"\"\"\n",
    "\n",
    "population=10000\n",
    "for i in range(10,0,-1):\n",
    "    print(i, \"year: \", population, \" population\")\n",
    "    population=population-0.1*population"
   ]
  },
  {
   "cell_type": "markdown",
   "id": "e90fa173",
   "metadata": {},
   "source": [
    "# Loop Control Statement\n",
    "- Break --> Terminates the loop\n",
    "- Continue --> Skip the mentioned condition in the loop\n",
    "- Pass --> Skip the loop"
   ]
  },
  {
   "cell_type": "code",
   "execution_count": 2,
   "id": "38d999e3",
   "metadata": {},
   "outputs": [
    {
     "name": "stdout",
     "output_type": "stream",
     "text": [
      "1\n",
      "2\n",
      "3\n",
      "4\n"
     ]
    }
   ],
   "source": [
    "for i in range(1,10):\n",
    "    if i == 5:\n",
    "        break\n",
    "    print(i)"
   ]
  },
  {
   "cell_type": "code",
   "execution_count": 27,
   "id": "31e8a6c3",
   "metadata": {},
   "outputs": [
    {
     "name": "stdout",
     "output_type": "stream",
     "text": [
      "Enter Lower range1\n",
      "Enter Upper range10\n",
      "1\n",
      "2\n",
      "3\n",
      "5\n",
      "7\n"
     ]
    }
   ],
   "source": [
    "lower = int(input('Enter Lower range '))\n",
    "upper = int(input('Enter Upper range '))\n",
    "\n",
    "for i in range(lower,upper+1):\n",
    "    for j in range(2,i):\n",
    "        if i%j == 0:\n",
    "            break\n",
    "    else:\n",
    "        print(i)"
   ]
  },
  {
   "cell_type": "code",
   "execution_count": 3,
   "id": "da25e67a",
   "metadata": {},
   "outputs": [
    {
     "name": "stdout",
     "output_type": "stream",
     "text": [
      "1\n",
      "2\n",
      "3\n",
      "4\n",
      "6\n",
      "7\n",
      "8\n",
      "9\n"
     ]
    }
   ],
   "source": [
    "for i in range(1,10):\n",
    "    if i == 5:\n",
    "        continue\n",
    "    print(i)"
   ]
  },
  {
   "cell_type": "code",
   "execution_count": 28,
   "id": "43e0cfee",
   "metadata": {},
   "outputs": [],
   "source": [
    "for i in range(1,10):\n",
    "    pass"
   ]
  },
  {
   "cell_type": "code",
   "execution_count": null,
   "id": "663d15d8",
   "metadata": {},
   "outputs": [],
   "source": []
  }
 ],
 "metadata": {
  "kernelspec": {
   "display_name": "Python 3 (ipykernel)",
   "language": "python",
   "name": "python3"
  },
  "language_info": {
   "codemirror_mode": {
    "name": "ipython",
    "version": 3
   },
   "file_extension": ".py",
   "mimetype": "text/x-python",
   "name": "python",
   "nbconvert_exporter": "python",
   "pygments_lexer": "ipython3",
   "version": "3.11.3"
  }
 },
 "nbformat": 4,
 "nbformat_minor": 5
}
