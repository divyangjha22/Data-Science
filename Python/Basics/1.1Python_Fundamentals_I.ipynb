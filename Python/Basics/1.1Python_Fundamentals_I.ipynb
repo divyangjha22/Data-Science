{
 "cells": [
  {
   "cell_type": "markdown",
   "id": "7b234e56",
   "metadata": {},
   "source": [
    "# Fundamentals of Python"
   ]
  },
  {
   "cell_type": "markdown",
   "id": "28970a0c",
   "metadata": {},
   "source": [
    "### Print Function in Python"
   ]
  },
  {
   "cell_type": "code",
   "execution_count": 1,
   "id": "b60aaa0e",
   "metadata": {},
   "outputs": [
    {
     "name": "stdout",
     "output_type": "stream",
     "text": [
      "Learning python\n"
     ]
    }
   ],
   "source": [
    "print(\"Learning python\")"
   ]
  },
  {
   "cell_type": "code",
   "execution_count": 2,
   "id": "ff519fa7",
   "metadata": {},
   "outputs": [
    {
     "name": "stdout",
     "output_type": "stream",
     "text": [
      "3\n"
     ]
    }
   ],
   "source": [
    "print(3)"
   ]
  },
  {
   "cell_type": "code",
   "execution_count": 3,
   "id": "3f5cedd5",
   "metadata": {},
   "outputs": [
    {
     "name": "stdout",
     "output_type": "stream",
     "text": [
      "3.3\n"
     ]
    }
   ],
   "source": [
    "print(3.3)"
   ]
  },
  {
   "cell_type": "code",
   "execution_count": 4,
   "id": "c767d0f3",
   "metadata": {},
   "outputs": [
    {
     "name": "stdout",
     "output_type": "stream",
     "text": [
      "False\n"
     ]
    }
   ],
   "source": [
    "print(False)"
   ]
  },
  {
   "cell_type": "code",
   "execution_count": 5,
   "id": "7eee2ede",
   "metadata": {},
   "outputs": [
    {
     "name": "stdout",
     "output_type": "stream",
     "text": [
      "India 1947 1.1\n"
     ]
    }
   ],
   "source": [
    "print('India',1947,1.1)"
   ]
  },
  {
   "cell_type": "code",
   "execution_count": 6,
   "id": "936d1503",
   "metadata": {},
   "outputs": [
    {
     "name": "stdout",
     "output_type": "stream",
     "text": [
      "15-AUG-1947\n"
     ]
    }
   ],
   "source": [
    "print(15,'AUG',1947,sep='-')"
   ]
  },
  {
   "cell_type": "code",
   "execution_count": 7,
   "id": "358db1cd",
   "metadata": {},
   "outputs": [
    {
     "name": "stdout",
     "output_type": "stream",
     "text": [
      "Divyang\n",
      "This side\n"
     ]
    }
   ],
   "source": [
    "# By default seperator is '/n'.\n",
    "print(\"Divyang\")\n",
    "print(\"This side\")"
   ]
  },
  {
   "cell_type": "code",
   "execution_count": 8,
   "id": "60ce176e",
   "metadata": {},
   "outputs": [
    {
     "name": "stdout",
     "output_type": "stream",
     "text": [
      "Divyang This side\n"
     ]
    }
   ],
   "source": [
    "print(\"Divyang\",end=\" \")\n",
    "print(\"This side\")"
   ]
  },
  {
   "cell_type": "markdown",
   "id": "f274f29d",
   "metadata": {},
   "source": [
    "### Data Types in Python\n",
    "- Basic Types:- integer, float, complex, boolean, string\n",
    "- Container Types (Also known as data structures):- list, tuples, sets, dictionary\n",
    "- User-defined Types:- class"
   ]
  },
  {
   "cell_type": "markdown",
   "id": "1dba0256",
   "metadata": {},
   "source": [
    "### Basic Data Types"
   ]
  },
  {
   "cell_type": "code",
   "execution_count": 9,
   "id": "cf0626c6",
   "metadata": {},
   "outputs": [
    {
     "name": "stdout",
     "output_type": "stream",
     "text": [
      "4\n",
      "<class 'int'>\n"
     ]
    }
   ],
   "source": [
    "# Integer\n",
    "a=4\n",
    "print(a)\n",
    "print(type(a))"
   ]
  },
  {
   "cell_type": "code",
   "execution_count": 10,
   "id": "a0da3ad0",
   "metadata": {},
   "outputs": [
    {
     "name": "stdout",
     "output_type": "stream",
     "text": [
      "1e+308\n",
      "inf\n"
     ]
    }
   ],
   "source": [
    "print(1e308) # Max integer\n",
    "print(1e309) # returns infinite"
   ]
  },
  {
   "cell_type": "code",
   "execution_count": 11,
   "id": "e03207a2",
   "metadata": {},
   "outputs": [
    {
     "name": "stdout",
     "output_type": "stream",
     "text": [
      "4.4\n",
      "<class 'float'>\n"
     ]
    }
   ],
   "source": [
    "# Float\n",
    "b=4.4\n",
    "print(b)\n",
    "print(type(b))"
   ]
  },
  {
   "cell_type": "code",
   "execution_count": 12,
   "id": "d8ea6c55",
   "metadata": {},
   "outputs": [
    {
     "name": "stdout",
     "output_type": "stream",
     "text": [
      "1.7e+308\n",
      "inf\n"
     ]
    }
   ],
   "source": [
    "print(1.7e308) # Max float\n",
    "print(1.7e309)# returns infinite"
   ]
  },
  {
   "cell_type": "code",
   "execution_count": 13,
   "id": "a51f18f6",
   "metadata": {},
   "outputs": [
    {
     "name": "stdout",
     "output_type": "stream",
     "text": [
      "True\n",
      "<class 'bool'>\n"
     ]
    }
   ],
   "source": [
    "# Boolean\n",
    "c=True\n",
    "print(c)\n",
    "print(type(c))"
   ]
  },
  {
   "cell_type": "code",
   "execution_count": 14,
   "id": "8c293825",
   "metadata": {},
   "outputs": [
    {
     "name": "stdout",
     "output_type": "stream",
     "text": [
      "(4+5j)\n",
      "<class 'complex'>\n"
     ]
    }
   ],
   "source": [
    "# Complex\n",
    "d=4+5j\n",
    "print(d)\n",
    "print(type(d))"
   ]
  },
  {
   "cell_type": "code",
   "execution_count": 15,
   "id": "fe7743cf",
   "metadata": {},
   "outputs": [
    {
     "name": "stdout",
     "output_type": "stream",
     "text": [
      "Starting Python\n",
      "<class 'str'>\n"
     ]
    }
   ],
   "source": [
    "# String\n",
    "e=\"Starting Python\"\n",
    "print(e)\n",
    "print(type(e))"
   ]
  },
  {
   "cell_type": "markdown",
   "id": "70110cfe",
   "metadata": {},
   "source": [
    "### Container Type"
   ]
  },
  {
   "cell_type": "code",
   "execution_count": 16,
   "id": "e7ab6242",
   "metadata": {},
   "outputs": [
    {
     "name": "stdout",
     "output_type": "stream",
     "text": [
      "[1, 2, 3, 4, 5]\n",
      "<class 'list'>\n"
     ]
    }
   ],
   "source": [
    "# Lists\n",
    "l1=[1,2,3,4,5]\n",
    "print(l1)\n",
    "print(type(l1))"
   ]
  },
  {
   "cell_type": "code",
   "execution_count": 17,
   "id": "05158a18",
   "metadata": {},
   "outputs": [
    {
     "name": "stdout",
     "output_type": "stream",
     "text": [
      "(1, 2, 3, 4, 5)\n",
      "<class 'tuple'>\n"
     ]
    }
   ],
   "source": [
    "# Tuples\n",
    "l2=(1,2,3,4,5)\n",
    "print(l2)\n",
    "print(type(l2))"
   ]
  },
  {
   "cell_type": "code",
   "execution_count": 18,
   "id": "e44b40cb",
   "metadata": {},
   "outputs": [
    {
     "name": "stdout",
     "output_type": "stream",
     "text": [
      "{1, 2, 3, 4, 5}\n",
      "<class 'set'>\n"
     ]
    }
   ],
   "source": [
    "# Sets\n",
    "l3={1,2,3,4,5}\n",
    "print(l3)\n",
    "print(type(l3))"
   ]
  },
  {
   "cell_type": "code",
   "execution_count": 19,
   "id": "48facdda",
   "metadata": {},
   "outputs": [
    {
     "name": "stdout",
     "output_type": "stream",
     "text": [
      "{'Name': 'Divyang', 'Gender': 'Male', 'Age': 20}\n",
      "<class 'dict'>\n"
     ]
    }
   ],
   "source": [
    "# Dictionary\n",
    "l4={\"Name\":\"Divyang\",\"Gender\":\"Male\",\"Age\":20}\n",
    "print(l4)\n",
    "print(type(l4))"
   ]
  },
  {
   "cell_type": "markdown",
   "id": "f16ed531",
   "metadata": {},
   "source": [
    "#  Variables\n",
    "\n",
    "Variables: It is a container to store the value which we can use later."
   ]
  },
  {
   "cell_type": "markdown",
   "id": "5bac3761",
   "metadata": {},
   "source": [
    "- Dynamic Typing: In python the interpreter itself assigns variable a type at runtime based on the variables value at that time.\n",
    "- Static Typing: In other languages like c/c++ programmers need to declare the data type of the variable."
   ]
  },
  {
   "cell_type": "markdown",
   "id": "0edbfacf",
   "metadata": {},
   "source": [
    "- Dynamic Binding: In python programmer can change the data type of the variable, this is known as dynamic binding.\n",
    "\n",
    "- Static Binding: In languages like c/c++ programmer cannot change the data types once the data type of the variable is decleared."
   ]
  },
  {
   "cell_type": "code",
   "execution_count": 20,
   "id": "f8f0ea45",
   "metadata": {},
   "outputs": [
    {
     "name": "stdout",
     "output_type": "stream",
     "text": [
      "10\n",
      "<class 'int'>\n"
     ]
    }
   ],
   "source": [
    "a=10\n",
    "print(a)\n",
    "print(type(a))"
   ]
  },
  {
   "cell_type": "code",
   "execution_count": 21,
   "id": "4aaf335b",
   "metadata": {},
   "outputs": [
    {
     "name": "stdout",
     "output_type": "stream",
     "text": [
      "1.0\n",
      "<class 'float'>\n"
     ]
    }
   ],
   "source": [
    "a=1.0\n",
    "print(a)\n",
    "print(type(a))"
   ]
  },
  {
   "cell_type": "code",
   "execution_count": 22,
   "id": "c6261668",
   "metadata": {},
   "outputs": [
    {
     "name": "stdout",
     "output_type": "stream",
     "text": [
      "Divyang\n",
      "<class 'str'>\n"
     ]
    }
   ],
   "source": [
    "a=\"Divyang\"\n",
    "print(a)\n",
    "print(type(a))"
   ]
  },
  {
   "cell_type": "markdown",
   "id": "f1ceb1d0",
   "metadata": {},
   "source": [
    "#### Ways to initialize multiple variables"
   ]
  },
  {
   "cell_type": "code",
   "execution_count": 23,
   "id": "5a604dd4",
   "metadata": {},
   "outputs": [
    {
     "name": "stdout",
     "output_type": "stream",
     "text": [
      "10 1.2 Cat\n"
     ]
    }
   ],
   "source": [
    "a=10;b=1.2;c='Cat'\n",
    "print(a,b,c)"
   ]
  },
  {
   "cell_type": "code",
   "execution_count": 24,
   "id": "fa07c26e",
   "metadata": {},
   "outputs": [
    {
     "name": "stdout",
     "output_type": "stream",
     "text": [
      "1 2.2 cat\n"
     ]
    }
   ],
   "source": [
    "a,b,c=1,2.2,'cat'\n",
    "print(a,b,c)"
   ]
  },
  {
   "cell_type": "code",
   "execution_count": 25,
   "id": "7b1713d1",
   "metadata": {},
   "outputs": [
    {
     "name": "stdout",
     "output_type": "stream",
     "text": [
      "6 6 6\n"
     ]
    }
   ],
   "source": [
    "a=b=c=6\n",
    "print(a,b,c)"
   ]
  },
  {
   "cell_type": "markdown",
   "id": "6285804b",
   "metadata": {},
   "source": [
    "# Keywords\n",
    "\n",
    "keywords: It is a word that is known to the interpreter. It can be a command or parameters. It cannot be used as variable names. Python has 33 keywords."
   ]
  },
  {
   "cell_type": "code",
   "execution_count": 26,
   "id": "0690d98e",
   "metadata": {},
   "outputs": [
    {
     "name": "stdout",
     "output_type": "stream",
     "text": [
      "['False', 'None', 'True', 'and', 'as', 'assert', 'async', 'await', 'break', 'class', 'continue', 'def', 'del', 'elif', 'else', 'except', 'finally', 'for', 'from', 'global', 'if', 'import', 'in', 'is', 'lambda', 'nonlocal', 'not', 'or', 'pass', 'raise', 'return', 'try', 'while', 'with', 'yield']\n",
      " \n",
      "There are  35  Keywords.\n"
     ]
    }
   ],
   "source": [
    "import keyword\n",
    "print(keyword.kwlist)\n",
    "print(\" \")\n",
    "print(\"There are \", len(keyword.kwlist), \" Keywords.\")"
   ]
  },
  {
   "cell_type": "markdown",
   "id": "c7e69d56",
   "metadata": {},
   "source": [
    "# Identifiers\n",
    "\n",
    "Identifiers: It is a name used to identify a variable, function, class, module or other object."
   ]
  },
  {
   "cell_type": "markdown",
   "id": "9ee9de13",
   "metadata": {},
   "source": [
    "# User Input & Type Conversion"
   ]
  },
  {
   "cell_type": "code",
   "execution_count": 28,
   "id": "d78a440d",
   "metadata": {},
   "outputs": [
    {
     "name": "stdout",
     "output_type": "stream",
     "text": [
      "Enter your Name: Divyang\n"
     ]
    },
    {
     "data": {
      "text/plain": [
       "'Divyang'"
      ]
     },
     "execution_count": 28,
     "metadata": {},
     "output_type": "execute_result"
    }
   ],
   "source": [
    "input(\"Enter your Name: \")"
   ]
  },
  {
   "cell_type": "markdown",
   "id": "54267477",
   "metadata": {},
   "source": [
    "- Whenever we take input from the user, input will store in form of string data type. So after taking the input from the user we have to do type conversion."
   ]
  },
  {
   "cell_type": "code",
   "execution_count": 29,
   "id": "99f72517",
   "metadata": {
    "scrolled": true
   },
   "outputs": [
    {
     "data": {
      "text/plain": [
       "9.5"
      ]
     },
     "execution_count": 29,
     "metadata": {},
     "output_type": "execute_result"
    }
   ],
   "source": [
    "# There are two types of type conversion: \n",
    "# 1.) Implicit:- The interpreter will automatically perform type conversion.\n",
    "4 + 5.5"
   ]
  },
  {
   "cell_type": "code",
   "execution_count": 30,
   "id": "b2337f39",
   "metadata": {},
   "outputs": [
    {
     "data": {
      "text/plain": [
       "4"
      ]
     },
     "execution_count": 30,
     "metadata": {},
     "output_type": "execute_result"
    }
   ],
   "source": [
    "# 2.) Explicit:- Programmer have to perform type conversion on its own.\n",
    "int(4.5)"
   ]
  },
  {
   "cell_type": "code",
   "execution_count": 31,
   "id": "b789e337",
   "metadata": {},
   "outputs": [
    {
     "data": {
      "text/plain": [
       "4.0"
      ]
     },
     "execution_count": 31,
     "metadata": {},
     "output_type": "execute_result"
    }
   ],
   "source": [
    "float(4)"
   ]
  },
  {
   "cell_type": "code",
   "execution_count": 32,
   "id": "63b0117d",
   "metadata": {},
   "outputs": [
    {
     "data": {
      "text/plain": [
       "'4.5'"
      ]
     },
     "execution_count": 32,
     "metadata": {},
     "output_type": "execute_result"
    }
   ],
   "source": [
    "str(4.5)"
   ]
  },
  {
   "cell_type": "code",
   "execution_count": 33,
   "id": "1734f9bd",
   "metadata": {},
   "outputs": [
    {
     "data": {
      "text/plain": [
       "(9.9+0j)"
      ]
     },
     "execution_count": 33,
     "metadata": {},
     "output_type": "execute_result"
    }
   ],
   "source": [
    "complex(9.9)"
   ]
  },
  {
   "cell_type": "code",
   "execution_count": 34,
   "id": "255bbaf1",
   "metadata": {},
   "outputs": [
    {
     "data": {
      "text/plain": [
       "['1', '2', '3', '4', '5']"
      ]
     },
     "execution_count": 34,
     "metadata": {},
     "output_type": "execute_result"
    }
   ],
   "source": [
    "list('12345')"
   ]
  },
  {
   "cell_type": "code",
   "execution_count": 35,
   "id": "63afa093",
   "metadata": {},
   "outputs": [
    {
     "data": {
      "text/plain": [
       "22"
      ]
     },
     "execution_count": 35,
     "metadata": {},
     "output_type": "execute_result"
    }
   ],
   "source": [
    "# Type coversion is not a permanent operation\n",
    "age=22\n",
    "float(age)\n",
    "age"
   ]
  },
  {
   "cell_type": "markdown",
   "id": "ea33ebff",
   "metadata": {},
   "source": [
    "#### Program to add"
   ]
  },
  {
   "cell_type": "code",
   "execution_count": 36,
   "id": "8ec43f69",
   "metadata": {},
   "outputs": [
    {
     "name": "stdout",
     "output_type": "stream",
     "text": [
      "Enter the value of a: 3\n",
      "Enter the value of b: 4\n",
      "7\n"
     ]
    },
    {
     "data": {
      "text/plain": [
       "int"
      ]
     },
     "execution_count": 36,
     "metadata": {},
     "output_type": "execute_result"
    }
   ],
   "source": [
    "a=int(input(\"Enter the value of a: \"))\n",
    "b=int(input(\"Enter the value of b: \"))\n",
    "\n",
    "c=a+b\n",
    "print(c)\n",
    "type(c)"
   ]
  },
  {
   "cell_type": "markdown",
   "id": "1f0a3f1f",
   "metadata": {},
   "source": [
    "# Literals\n",
    "\n",
    "\n",
    "Literals: It is a raw data given to the varible. In python there are various literals:-\n",
    "\n",
    "1.) Numerical literals\n",
    "\n",
    "2.) String literals\n",
    "\n",
    "3.) Boolean literals\n",
    "\n",
    "4.) Special literals"
   ]
  },
  {
   "cell_type": "code",
   "execution_count": 37,
   "id": "e20c31c3",
   "metadata": {},
   "outputs": [
    {
     "name": "stdout",
     "output_type": "stream",
     "text": [
      "10 100 200 300\n",
      "10.5 150.0 0.0015\n",
      "3.14j 3.14 0.0\n"
     ]
    }
   ],
   "source": [
    "# Numerical literals\n",
    "a = 0b1010 # Binary Literals\n",
    "b = 100 # Decimal Literal \n",
    "c = 0o310 # Octal Literal\n",
    "d = 0x12c # Hexadecimal Literal\n",
    "\n",
    "#Float Literal\n",
    "float_1 = 10.5 \n",
    "float_2 = 1.5e2\n",
    "float_3 = 1.5e-3\n",
    "\n",
    "#Complex Literal \n",
    "x = 3.14j\n",
    "\n",
    "print(a, b, c, d)\n",
    "print(float_1, float_2,float_3)\n",
    "print(x, x.imag, x.real)"
   ]
  },
  {
   "cell_type": "code",
   "execution_count": 38,
   "id": "d2bfcc50",
   "metadata": {},
   "outputs": [
    {
     "name": "stdout",
     "output_type": "stream",
     "text": [
      "This is Python\n",
      "This is Python\n",
      "C\n",
      "This is a multiline string with more than one line code.\n",
      "😀😆🤣\n",
      "raw \\n string\n"
     ]
    }
   ],
   "source": [
    "# String literals\n",
    "string = 'This is Python'\n",
    "strings = \"This is Python\"\n",
    "char = \"C\"\n",
    "multiline_str = \"\"\"This is a multiline string with more than one line code.\"\"\"\n",
    "unicode = u\"\\U0001f600\\U0001F606\\U0001F923\"\n",
    "raw_str = r\"raw \\n string\"\n",
    "\n",
    "print(string)\n",
    "print(strings)\n",
    "print(char)\n",
    "print(multiline_str)\n",
    "print(unicode)\n",
    "print(raw_str)"
   ]
  },
  {
   "cell_type": "code",
   "execution_count": 39,
   "id": "f47a0744",
   "metadata": {},
   "outputs": [
    {
     "name": "stdout",
     "output_type": "stream",
     "text": [
      "a: 5\n",
      "b: 10\n"
     ]
    }
   ],
   "source": [
    "# Boolean literals\n",
    "a = True + 4\n",
    "b = False + 10\n",
    "\n",
    "print(\"a:\", a)\n",
    "print(\"b:\", b)"
   ]
  },
  {
   "cell_type": "code",
   "execution_count": 40,
   "id": "049e4f6b",
   "metadata": {},
   "outputs": [
    {
     "name": "stdout",
     "output_type": "stream",
     "text": [
      "None\n"
     ]
    }
   ],
   "source": [
    "# Special literals\n",
    "# Like c/c++ in python we cannot decleare a null variable but we can assingn none literal.\n",
    "a = None\n",
    "print(a)"
   ]
  }
 ],
 "metadata": {
  "kernelspec": {
   "display_name": "Python 3 (ipykernel)",
   "language": "python",
   "name": "python3"
  },
  "language_info": {
   "codemirror_mode": {
    "name": "ipython",
    "version": 3
   },
   "file_extension": ".py",
   "mimetype": "text/x-python",
   "name": "python",
   "nbconvert_exporter": "python",
   "pygments_lexer": "ipython3",
   "version": "3.11.3"
  }
 },
 "nbformat": 4,
 "nbformat_minor": 5
}
