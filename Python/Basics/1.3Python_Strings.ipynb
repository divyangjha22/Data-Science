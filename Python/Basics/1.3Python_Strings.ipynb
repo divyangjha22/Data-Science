{
 "cells": [
  {
   "cell_type": "markdown",
   "id": "cd50ecb1",
   "metadata": {},
   "source": [
    "# Strings\n",
    "\n",
    "1. Creating Strings\n",
    "2. Accessing Strings\n",
    "3. Adding Chars to Strings\n",
    "4. Editing Strings\n",
    "5. Deleting Strings\n",
    "6. Operations on Strings\n",
    "7. String Functions"
   ]
  },
  {
   "cell_type": "markdown",
   "id": "f8ab972e",
   "metadata": {},
   "source": [
    "### String Creation"
   ]
  },
  {
   "cell_type": "code",
   "execution_count": 2,
   "id": "3e528771",
   "metadata": {},
   "outputs": [
    {
     "name": "stdout",
     "output_type": "stream",
     "text": [
      "hello\n",
      "       there learning Strings\n",
      "hel\n"
     ]
    }
   ],
   "source": [
    "str1 = 'hello'\n",
    "str2 = \"hello\"\n",
    "\n",
    "# Multiline strings\n",
    "s = '''hello\n",
    "       there learning Strings'''\n",
    "print(s)"
   ]
  },
  {
   "cell_type": "markdown",
   "id": "8a17821f",
   "metadata": {},
   "source": [
    "### Accessing Substrings from the Strings"
   ]
  },
  {
   "cell_type": "code",
   "execution_count": 2,
   "id": "b2a064dc",
   "metadata": {},
   "outputs": [
    {
     "name": "stdout",
     "output_type": "stream",
     "text": [
      "S\n"
     ]
    }
   ],
   "source": [
    "# Positive Indexing\n",
    "strr= \"Hey there, Started learning Strings\"\n",
    "print(strr[11])"
   ]
  },
  {
   "cell_type": "code",
   "execution_count": 3,
   "id": "fafb7923",
   "metadata": {},
   "outputs": [
    {
     "name": "stdout",
     "output_type": "stream",
     "text": [
      "s\n"
     ]
    }
   ],
   "source": [
    "# Negative Indexing\n",
    "strr = \"Hey there, Started learning Strings\"\n",
    "print(strr[-1])"
   ]
  },
  {
   "cell_type": "markdown",
   "id": "c90d5591",
   "metadata": {},
   "source": [
    "### String Slicing"
   ]
  },
  {
   "cell_type": "code",
   "execution_count": 4,
   "id": "953956e3",
   "metadata": {},
   "outputs": [
    {
     "name": "stdout",
     "output_type": "stream",
     "text": [
      "ety\n"
     ]
    }
   ],
   "source": [
    "strr = \"Hey there, Started learning Strings\"\n",
    "print(strr[6:0:-2]) # [start : end : skip]"
   ]
  },
  {
   "cell_type": "code",
   "execution_count": 5,
   "id": "c32932a5",
   "metadata": {},
   "outputs": [
    {
     "name": "stdout",
     "output_type": "stream",
     "text": [
      "sgnirtS gninrael detratS ,ereht yeH\n"
     ]
    }
   ],
   "source": [
    "print(strr[::-1]) # Reverse"
   ]
  },
  {
   "cell_type": "code",
   "execution_count": 6,
   "id": "686cfe13",
   "metadata": {},
   "outputs": [
    {
     "name": "stdout",
     "output_type": "stream",
     "text": [
      "sgnir\n"
     ]
    }
   ],
   "source": [
    "print(strr[-1:-6:-1])"
   ]
  },
  {
   "cell_type": "code",
   "execution_count": 7,
   "id": "c7c55dac",
   "metadata": {},
   "outputs": [
    {
     "name": "stdout",
     "output_type": "stream",
     "text": [
      "\n"
     ]
    }
   ],
   "source": [
    "# Will not print start > end & negitive skip is not given\n",
    "print(strr[6:0]) "
   ]
  },
  {
   "cell_type": "code",
   "execution_count": 8,
   "id": "ba5132ad",
   "metadata": {},
   "outputs": [
    {
     "name": "stdout",
     "output_type": "stream",
     "text": [
      "eht ye\n"
     ]
    }
   ],
   "source": [
    "print(strr[6:0:-1]) "
   ]
  },
  {
   "cell_type": "markdown",
   "id": "bb7fb2ec",
   "metadata": {},
   "source": [
    "## Operations on Strings"
   ]
  },
  {
   "cell_type": "code",
   "execution_count": 9,
   "id": "07abd539",
   "metadata": {},
   "outputs": [
    {
     "name": "stdout",
     "output_type": "stream",
     "text": [
      "Delhi, Mumbai\n",
      "DelhiDelhiDelhiDelhiDelhi\n",
      "**************************************************\n"
     ]
    }
   ],
   "source": [
    "# Arithmetic operations --> Only + & * operators works on strings\n",
    "print('Delhi' + ', ' + 'Mumbai')\n",
    "print('Delhi'*5)\n",
    "print(\"*\"*50)"
   ]
  },
  {
   "cell_type": "code",
   "execution_count": 3,
   "id": "b37036df",
   "metadata": {},
   "outputs": [
    {
     "name": "stdout",
     "output_type": "stream",
     "text": [
      "True\n",
      "False\n"
     ]
    }
   ],
   "source": [
    "# Assignment Operators\n",
    "print('delhi' == 'delhi')\n",
    "print('D'=='d')"
   ]
  },
  {
   "cell_type": "code",
   "execution_count": 11,
   "id": "7cdd65c0",
   "metadata": {},
   "outputs": [
    {
     "name": "stdout",
     "output_type": "stream",
     "text": [
      "False\n",
      "False\n",
      "False\n"
     ]
    }
   ],
   "source": [
    "# Relational Operations --> Compared lexicographically i.e. on the basis of ASCII values\n",
    "print('delhi' != 'delhi')\n",
    "print('mumbai' > 'pune')\n",
    "print('Pune' > 'pune')"
   ]
  },
  {
   "cell_type": "code",
   "execution_count": 4,
   "id": "a83671e1",
   "metadata": {},
   "outputs": [
    {
     "name": "stdout",
     "output_type": "stream",
     "text": [
      "world\n",
      "\n",
      "hello\n",
      "world\n",
      "hello\n",
      "False\n"
     ]
    }
   ],
   "source": [
    "'''\n",
    "Logical Operations\n",
    "python intrepreter treates any string as True & empty string as false\n",
    "'''\n",
    "\n",
    "# and\n",
    "print('hello' and 'world')\n",
    "print('' and 'world')\n",
    "\n",
    "# or\n",
    "print('hello' or 'world')\n",
    "print('' or 'world')\n",
    "print('hello' or 'world')\n",
    "\n",
    "# not\n",
    "print(not 'hello')"
   ]
  },
  {
   "cell_type": "code",
   "execution_count": 5,
   "id": "5bfe8a78",
   "metadata": {},
   "outputs": [
    {
     "name": "stdout",
     "output_type": "stream",
     "text": [
      "h\n",
      "e\n",
      "l\n",
      "l\n",
      "o\n"
     ]
    }
   ],
   "source": [
    "# Loops & Membership Operations\n",
    "for i in 'hello':\n",
    "  print(i)"
   ]
  },
  {
   "cell_type": "code",
   "execution_count": 6,
   "id": "23852077",
   "metadata": {},
   "outputs": [
    {
     "name": "stdout",
     "output_type": "stream",
     "text": [
      "pune\n",
      "pune\n",
      "pune\n",
      "pune\n",
      "pune\n"
     ]
    }
   ],
   "source": [
    "for i in 'delhi':\n",
    "  print('pune')"
   ]
  },
  {
   "cell_type": "code",
   "execution_count": 7,
   "id": "e03fea4a",
   "metadata": {},
   "outputs": [
    {
     "data": {
      "text/plain": [
       "False"
      ]
     },
     "execution_count": 7,
     "metadata": {},
     "output_type": "execute_result"
    }
   ],
   "source": [
    "'D' in 'delhi'"
   ]
  },
  {
   "cell_type": "markdown",
   "id": "3483cf8d",
   "metadata": {},
   "source": [
    "# Common Functions"
   ]
  },
  {
   "cell_type": "code",
   "execution_count": 8,
   "id": "7aa53d24",
   "metadata": {},
   "outputs": [
    {
     "data": {
      "text/plain": [
       "5"
      ]
     },
     "execution_count": 8,
     "metadata": {},
     "output_type": "execute_result"
    }
   ],
   "source": [
    "len('hello')"
   ]
  },
  {
   "cell_type": "code",
   "execution_count": 9,
   "id": "e334e298",
   "metadata": {},
   "outputs": [
    {
     "data": {
      "text/plain": [
       "'o'"
      ]
     },
     "execution_count": 9,
     "metadata": {},
     "output_type": "execute_result"
    }
   ],
   "source": [
    "max('hello')"
   ]
  },
  {
   "cell_type": "code",
   "execution_count": 10,
   "id": "262acb7a",
   "metadata": {},
   "outputs": [
    {
     "data": {
      "text/plain": [
       "'e'"
      ]
     },
     "execution_count": 10,
     "metadata": {},
     "output_type": "execute_result"
    }
   ],
   "source": [
    "min('hello')"
   ]
  },
  {
   "cell_type": "code",
   "execution_count": 15,
   "id": "f8b294a5",
   "metadata": {},
   "outputs": [
    {
     "data": {
      "text/plain": [
       "['o', 'l', 'l', 'h', 'e']"
      ]
     },
     "execution_count": 15,
     "metadata": {},
     "output_type": "execute_result"
    }
   ],
   "source": [
    "sorted('hello',reverse=True)"
   ]
  },
  {
   "cell_type": "code",
   "execution_count": 20,
   "id": "6f95fded",
   "metadata": {},
   "outputs": [
    {
     "data": {
      "text/plain": [
       "[' ', 'd', 'e', 'h', 'l', 'l', 'l', 'o', 'o', 'r', 'w']"
      ]
     },
     "execution_count": 20,
     "metadata": {},
     "output_type": "execute_result"
    }
   ],
   "source": [
    "sorted('hello world')"
   ]
  },
  {
   "cell_type": "markdown",
   "id": "cc5c8c64",
   "metadata": {},
   "source": [
    "# Capitalize/Title/Upper/Lower/Swapcase"
   ]
  },
  {
   "cell_type": "code",
   "execution_count": 21,
   "id": "727d9a44",
   "metadata": {},
   "outputs": [
    {
     "name": "stdout",
     "output_type": "stream",
     "text": [
      "Hello world\n",
      "Hello World\n",
      "HELLO WORLD\n",
      "hello wolrd\n",
      "hElLo wORld\n"
     ]
    }
   ],
   "source": [
    "s = 'hello world'\n",
    "\n",
    "print(s.capitalize())\n",
    "print(s.title())\n",
    "print(s.upper())\n",
    "print('Hello Wolrd'.lower())\n",
    "print('HeLlO WorLD'.swapcase())"
   ]
  },
  {
   "cell_type": "markdown",
   "id": "58b69ee3",
   "metadata": {},
   "source": [
    "# Count/Find/Index"
   ]
  },
  {
   "cell_type": "code",
   "execution_count": 22,
   "id": "6561e715",
   "metadata": {},
   "outputs": [
    {
     "data": {
      "text/plain": [
       "2"
      ]
     },
     "execution_count": 22,
     "metadata": {},
     "output_type": "execute_result"
    }
   ],
   "source": [
    "'my name is divyang'.count('i')"
   ]
  },
  {
   "cell_type": "code",
   "execution_count": 23,
   "id": "1de1d786",
   "metadata": {},
   "outputs": [
    {
     "data": {
      "text/plain": [
       "-1"
      ]
     },
     "execution_count": 23,
     "metadata": {},
     "output_type": "execute_result"
    }
   ],
   "source": [
    "'my name is divyang'.find('x')"
   ]
  },
  {
   "cell_type": "code",
   "execution_count": 24,
   "id": "f4e12e3f",
   "metadata": {},
   "outputs": [
    {
     "data": {
      "text/plain": [
       "3"
      ]
     },
     "execution_count": 24,
     "metadata": {},
     "output_type": "execute_result"
    }
   ],
   "source": [
    "'my name is divyang'.index('n')"
   ]
  },
  {
   "cell_type": "markdown",
   "id": "20a0e7b4",
   "metadata": {},
   "source": [
    "# endswith/startswith"
   ]
  },
  {
   "cell_type": "code",
   "execution_count": 25,
   "id": "2428b280",
   "metadata": {},
   "outputs": [
    {
     "data": {
      "text/plain": [
       "True"
      ]
     },
     "execution_count": 25,
     "metadata": {},
     "output_type": "execute_result"
    }
   ],
   "source": [
    "'my name is divyang'.endswith('ang')"
   ]
  },
  {
   "cell_type": "code",
   "execution_count": 26,
   "id": "75063baa",
   "metadata": {},
   "outputs": [
    {
     "data": {
      "text/plain": [
       "False"
      ]
     },
     "execution_count": 26,
     "metadata": {},
     "output_type": "execute_result"
    }
   ],
   "source": [
    "'my name is divyang'.startswith('|my')"
   ]
  },
  {
   "cell_type": "markdown",
   "id": "e2490eaa",
   "metadata": {},
   "source": [
    "# isalnum/ isalpha/ isdigit/ isidentifier"
   ]
  },
  {
   "cell_type": "code",
   "execution_count": 27,
   "id": "2dfb4e4b",
   "metadata": {},
   "outputs": [
    {
     "data": {
      "text/plain": [
       "False"
      ]
     },
     "execution_count": 27,
     "metadata": {},
     "output_type": "execute_result"
    }
   ],
   "source": [
    "'div1234%'.isalnum()"
   ]
  },
  {
   "cell_type": "code",
   "execution_count": 16,
   "id": "74f35f2d",
   "metadata": {},
   "outputs": [
    {
     "data": {
      "text/plain": [
       "True"
      ]
     },
     "execution_count": 16,
     "metadata": {},
     "output_type": "execute_result"
    }
   ],
   "source": [
    "'divyang'.isalpha()"
   ]
  },
  {
   "cell_type": "code",
   "execution_count": 17,
   "id": "bc86080b",
   "metadata": {},
   "outputs": [
    {
     "data": {
      "text/plain": [
       "False"
      ]
     },
     "execution_count": 17,
     "metadata": {},
     "output_type": "execute_result"
    }
   ],
   "source": [
    "'123abc'.isdigit()"
   ]
  },
  {
   "cell_type": "code",
   "execution_count": 18,
   "id": "74110e41",
   "metadata": {},
   "outputs": [
    {
     "data": {
      "text/plain": [
       "True"
      ]
     },
     "execution_count": 18,
     "metadata": {},
     "output_type": "execute_result"
    }
   ],
   "source": [
    "'first_name'.isidentifier()"
   ]
  },
  {
   "cell_type": "markdown",
   "id": "837c96ab",
   "metadata": {},
   "source": [
    "# Split/Join"
   ]
  },
  {
   "cell_type": "code",
   "execution_count": 19,
   "id": "7099937a",
   "metadata": {},
   "outputs": [
    {
     "data": {
      "text/plain": [
       "['hi', 'my', 'name', 'is', 'divyang']"
      ]
     },
     "execution_count": 19,
     "metadata": {},
     "output_type": "execute_result"
    }
   ],
   "source": [
    "# split() --> splits every word\n",
    "'hi my name is divyang'.split()"
   ]
  },
  {
   "cell_type": "code",
   "execution_count": 20,
   "id": "eceed06f",
   "metadata": {},
   "outputs": [
    {
     "data": {
      "text/plain": [
       "'hi my name is divyang'"
      ]
     },
     "execution_count": 20,
     "metadata": {},
     "output_type": "execute_result"
    }
   ],
   "source": [
    "# join() --> Convert word into sentence\n",
    "\" \".join(['hi', 'my', 'name', 'is', 'divyang'])"
   ]
  },
  {
   "cell_type": "markdown",
   "id": "dc517ff5",
   "metadata": {},
   "source": [
    "# Replace"
   ]
  },
  {
   "cell_type": "code",
   "execution_count": 21,
   "id": "8f9d2faf",
   "metadata": {},
   "outputs": [
    {
     "data": {
      "text/plain": [
       "'hi my name is divyang'"
      ]
     },
     "execution_count": 21,
     "metadata": {},
     "output_type": "execute_result"
    }
   ],
   "source": [
    "'hi my name is nitish'.replace('nitish', 'divyang')"
   ]
  },
  {
   "cell_type": "markdown",
   "id": "96510027",
   "metadata": {},
   "source": [
    "# Strip"
   ]
  },
  {
   "cell_type": "code",
   "execution_count": 24,
   "id": "72cc9635",
   "metadata": {},
   "outputs": [
    {
     "data": {
      "text/plain": [
       "'v_-_-_-_-_-_-_-_-_-_-_-yan'"
      ]
     },
     "execution_count": 24,
     "metadata": {},
     "output_type": "execute_result"
    }
   ],
   "source": [
    "# strip() --> Remove the mentioned word\n",
    "'div_-_-_-_-_-_-_-_-_-_-_-yang'.strip('diyag')"
   ]
  },
  {
   "cell_type": "code",
   "execution_count": null,
   "id": "85a9bdd2",
   "metadata": {},
   "outputs": [],
   "source": []
  }
 ],
 "metadata": {
  "kernelspec": {
   "display_name": "Python 3 (ipykernel)",
   "language": "python",
   "name": "python3"
  },
  "language_info": {
   "codemirror_mode": {
    "name": "ipython",
    "version": 3
   },
   "file_extension": ".py",
   "mimetype": "text/x-python",
   "name": "python",
   "nbconvert_exporter": "python",
   "pygments_lexer": "ipython3",
   "version": "3.11.3"
  }
 },
 "nbformat": 4,
 "nbformat_minor": 5
}
