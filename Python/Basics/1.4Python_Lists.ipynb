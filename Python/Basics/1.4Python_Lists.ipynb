{
 "cells": [
  {
   "cell_type": "markdown",
   "id": "00ad02a1",
   "metadata": {},
   "source": [
    "# Lists"
   ]
  },
  {
   "cell_type": "code",
   "execution_count": 1,
   "id": "a02897a4",
   "metadata": {},
   "outputs": [
    {
     "name": "stdout",
     "output_type": "stream",
     "text": [
      "[1, 2, 3, 4, [1, 2, 3]]\n",
      "[1, 2, 3, (1, 2, 3)]\n",
      "[1, 2, 3, {1, 2, 3}]\n",
      "[1, 2, 3, {'sub': 'Maths', 'marks': 30}]\n"
     ]
    }
   ],
   "source": [
    "# We can add - Lists in List, Tuples in List, Sets in List & Dictionary in List\n",
    "\n",
    "L1=[1,2,3,4,[1,2,3]]\n",
    "print(L1)\n",
    "\n",
    "L2=[1,2,3,(1,2,3)]\n",
    "print(L2)\n",
    "\n",
    "L3=[1,2,3,{1,2,3}]\n",
    "print(L3)\n",
    "\n",
    "L4=[1,2,3,{'sub':'Maths', 'marks':30}]\n",
    "print(L4)"
   ]
  },
  {
   "cell_type": "code",
   "execution_count": 2,
   "id": "0e434a73",
   "metadata": {},
   "outputs": [
    {
     "name": "stdout",
     "output_type": "stream",
     "text": [
      "Divyang\n",
      "[1, 2, None, <class 'type'>, <bound method Kernel.raw_input of <ipykernel.ipkernel.IPythonKernel object at 0x000001FBC14E8B50>>]\n"
     ]
    }
   ],
   "source": [
    "# List can store any kind of object. i.e. it can even store the functions also.\n",
    "L=[1,2,print(\"Divyang\"),type,input]\n",
    "print(L)"
   ]
  },
  {
   "cell_type": "markdown",
   "id": "f8d048b7",
   "metadata": {},
   "source": [
    "### Creating a list"
   ]
  },
  {
   "cell_type": "code",
   "execution_count": 3,
   "id": "40dae263",
   "metadata": {},
   "outputs": [
    {
     "name": "stdout",
     "output_type": "stream",
     "text": [
      "[]\n",
      "[1, 2, 3, 4, 5]\n",
      "[1, 2, 3, [4, 5]]\n",
      "[[[1, 2], [3, 4]], [[5, 6], [7, 8]]]\n",
      "[1, True, 5.6, (5+6j), 'Hello']\n",
      "['h', 'e', 'l', 'l', 'o']\n"
     ]
    }
   ],
   "source": [
    "# Empty List\n",
    "print([])\n",
    "\n",
    "# 1D -> Homogeneous\n",
    "print([1,2,3,4,5])\n",
    "\n",
    "# 2D\n",
    "print([1,2,3,[4,5]])\n",
    "\n",
    "# 3D\n",
    "print([[[1,2],[3,4]],[[5,6],[7,8]]])\n",
    "\n",
    "# Hetrogenous --> List with multiple data types\n",
    "print([1,True,5.6,5+6j,'Hello'])\n",
    "\n",
    "# Using Type conversion --> String to List\n",
    "print(list('hello'))"
   ]
  },
  {
   "cell_type": "markdown",
   "id": "d29cf19c",
   "metadata": {},
   "source": [
    "### Accessing Items from a List"
   ]
  },
  {
   "cell_type": "code",
   "execution_count": 4,
   "id": "3d9eca48",
   "metadata": {},
   "outputs": [
    {
     "name": "stdout",
     "output_type": "stream",
     "text": [
      "[[1, 2], [3, 4]]\n",
      "[[5, 6], [7, 8]]\n",
      "[1, 2]\n",
      "2\n",
      "4\n",
      "[6, 5, 4, 3, 2, 1]\n"
     ]
    }
   ],
   "source": [
    "L1=[[[1,2],[3,4]],[[5,6],[7,8]]]\n",
    "\n",
    "# Accessing one element at a time \n",
    "print(L1[0])\n",
    "print(L1[1])\n",
    "print(L1[0][0])\n",
    "print(L1[0][0][1])\n",
    "print(L1[0][1][1])\n",
    "\n",
    "# Slicing --> Accessing multiple elements at a time\n",
    "L2=[1,2,3,4,5,6]\n",
    "print(L2[::-1])"
   ]
  },
  {
   "cell_type": "markdown",
   "id": "7378cf81",
   "metadata": {},
   "source": [
    "### Adding Items to a List"
   ]
  },
  {
   "cell_type": "code",
   "execution_count": 5,
   "id": "4034c58c",
   "metadata": {},
   "outputs": [
    {
     "name": "stdout",
     "output_type": "stream",
     "text": [
      "[1, 2, 3, 4, 5, [6, 7, 8]]\n",
      "[1, 2, 3, 4, 5, 6, 7, 8]\n",
      "[1, 2, [200, 300, True, 'Div'], 3, 4, 5, [6, 7, 8]]\n"
     ]
    }
   ],
   "source": [
    "# Append --> Can add only one item at a time.\n",
    "L1=[1,2,3,4,5]\n",
    "L1.append([6,7,8]) # Here this will add in the list but as a single item only.\n",
    "print(L1)\n",
    "\n",
    "# Extend --> Can add multiple items at a time.\n",
    "L2=[1,2,3,4,5]\n",
    "L2.extend([6,7,8])\n",
    "print(L2)\n",
    "\n",
    "# Insert --> Can insert single element but at any position in the list.\n",
    "L3=[1,2,3,4,5]\n",
    "L1.insert(2,[200,300,True,'Div'])\n",
    "print(L1)"
   ]
  },
  {
   "cell_type": "markdown",
   "id": "3b71d295",
   "metadata": {},
   "source": [
    "### Editing items in a List"
   ]
  },
  {
   "cell_type": "code",
   "execution_count": 6,
   "id": "3479d33f",
   "metadata": {},
   "outputs": [
    {
     "name": "stdout",
     "output_type": "stream",
     "text": [
      "[1, 2, 3, 4, 500]\n",
      "[1, 200, 300, 400, 5]\n"
     ]
    }
   ],
   "source": [
    "L=[1,2,3,4,5]\n",
    "L[-1]=500\n",
    "print(L)\n",
    "\n",
    "L=[1,2,3,4,5]\n",
    "L[1:4]=[200,300,400]\n",
    "print(L)"
   ]
  },
  {
   "cell_type": "markdown",
   "id": "a873daed",
   "metadata": {},
   "source": [
    "### Deleting items from a List"
   ]
  },
  {
   "cell_type": "code",
   "execution_count": 7,
   "id": "882e2fe2",
   "metadata": {},
   "outputs": [
    {
     "name": "stdout",
     "output_type": "stream",
     "text": [
      "[1, 4, 5]\n",
      "[1, 2, 3, 4]\n",
      "[1, 3, 4]\n",
      "[]\n"
     ]
    }
   ],
   "source": [
    "# del --> Can delete items by their index position.\n",
    "L=[1,2,3,4,5]\n",
    "del L[1:3]\n",
    "print(L)\n",
    "\n",
    "L=[1,2,3,4,5]\n",
    "del L\n",
    "# print(L) # Delete the whole list\n",
    "\n",
    "# remove --> Can delete items just by values.\n",
    "L=[1,2,3,4,5]\n",
    "L.remove(5)\n",
    "print(L)\n",
    "\n",
    "# pop --> Will delete the last item if no index is passed.\n",
    "L=[1,2,3,4,5]\n",
    "L.pop()\n",
    "L.pop(1)\n",
    "print(L)\n",
    "\n",
    "# clear --> Will delete all the items of the list not the list itself.\n",
    "L=[1,2,3,4,5]\n",
    "L.clear()\n",
    "print(L)"
   ]
  },
  {
   "cell_type": "markdown",
   "id": "63a84c34",
   "metadata": {},
   "source": [
    "## Operations on Lists\n",
    "- Arithmetic\n",
    "- Membership\n",
    "- Loop"
   ]
  },
  {
   "cell_type": "code",
   "execution_count": 8,
   "id": "af0ac319",
   "metadata": {},
   "outputs": [
    {
     "name": "stdout",
     "output_type": "stream",
     "text": [
      "[1, 2, 3, 4, 5, 6, 7, 8]\n",
      "[1, 2, 3, 4, 1, 2, 3, 4, 1, 2, 3, 4]\n",
      "False\n",
      "True\n",
      "False\n",
      "[[1, 2], [3, 4]]\n",
      "[[5, 6], [7, 8]]\n"
     ]
    }
   ],
   "source": [
    "# Arithmetic (+ ,*)\n",
    "L1=[1,2,3,4]\n",
    "L2=[5,6,7,8]\n",
    "\n",
    "# Concatenation/Merge\n",
    "print(L1 + L2)\n",
    "\n",
    "# Multiplication\n",
    "print(L1*3)\n",
    "\n",
    "# Membership operators\n",
    "L1=[1,2,3,4,5]\n",
    "L2=[1,2,3,4,[5,6]]\n",
    "\n",
    "print(5 not in L1)\n",
    "print([5,6] in L2)\n",
    "print(5 in L2)\n",
    "\n",
    "# Loops\n",
    "L1=[1,2,3,4,5]\n",
    "L2=[1,2,3,4,[5,6]]\n",
    "L3=[[[1,2],[3,4]],[[5,6],[7,8]]]\n",
    "\n",
    "for i in L3:\n",
    "    print(i)"
   ]
  },
  {
   "cell_type": "markdown",
   "id": "c34cf6e6",
   "metadata": {},
   "source": [
    "### List Functions"
   ]
  },
  {
   "cell_type": "code",
   "execution_count": 9,
   "id": "539c1f4c",
   "metadata": {},
   "outputs": [
    {
     "name": "stdout",
     "output_type": "stream",
     "text": [
      "5\n",
      "0\n",
      "7\n",
      "[7, 5, 2, 1, 0]\n",
      " \n",
      " \n",
      " \n",
      " \n",
      "[0, 7, 5, 1, 2]\n",
      " \n",
      "[2, 1, 5, 7, 0]\n",
      "2180817147136\n",
      "[2, 1, 5, 7, 0]\n",
      "2180817148864\n"
     ]
    }
   ],
   "source": [
    "# len/min/max/sorted\n",
    "L=[2,1,5,7,0]\n",
    "\n",
    "print(len(L))\n",
    "print(min(L))\n",
    "print(max(L))\n",
    "print(sorted(L,reverse=True))\n",
    "print(\" \")\n",
    "\n",
    "# count \n",
    "L=[1,2,1,3,4,1,5]\n",
    "L.count(1)\n",
    "print(\" \")\n",
    "\n",
    "# Index\n",
    "L=[1,2,1,3,4,1,5]\n",
    "L.index(1)\n",
    "print(\" \")\n",
    "\n",
    "# reverse\n",
    "L=[2,1,5,7,0]\n",
    "print(\" \")\n",
    "\n",
    "# permanently reverses the list\n",
    "L.reverse()\n",
    "print(L)\n",
    "print(\" \")\n",
    "\n",
    "# copy -> shallow\n",
    "L=[2,1,5,7,0]\n",
    "print(L)\n",
    "print(id(L))\n",
    "\n",
    "L1=L.copy()\n",
    "print(L1)\n",
    "print(id(L1))"
   ]
  },
  {
   "cell_type": "markdown",
   "id": "369259c8",
   "metadata": {},
   "source": [
    "# List Comprehension\n",
    "- List Comprehension provides a concise way of creating lists.\n",
    "\n",
    "### Advantages of List Comprehension\n",
    "\n",
    "- More time-efficient and space-efficient than loops.\n",
    "- Require fewer lines of code.\n",
    "- Transforms iterative statement into a formula."
   ]
  },
  {
   "cell_type": "code",
   "execution_count": 10,
   "id": "881cf6c6",
   "metadata": {},
   "outputs": [
    {
     "name": "stdout",
     "output_type": "stream",
     "text": [
      "[1, 2, 3, 4, 5, 6, 7, 8, 9, 10]\n"
     ]
    }
   ],
   "source": [
    "# Add 1 to 10 numbers to a list\n",
    "L=[]\n",
    "for i in range(1,11):\n",
    "    L.append(i)\n",
    "print(L)"
   ]
  },
  {
   "cell_type": "code",
   "execution_count": 11,
   "id": "f5a90923",
   "metadata": {},
   "outputs": [
    {
     "name": "stdout",
     "output_type": "stream",
     "text": [
      "[1, 2, 3, 4, 5, 6, 7, 8, 9, 10]\n"
     ]
    }
   ],
   "source": [
    "# Add 1 to 10 numbers to a list via list comphrension\n",
    "L=[i for i in range(1,11)]\n",
    "print(L)"
   ]
  },
  {
   "cell_type": "code",
   "execution_count": 12,
   "id": "d9380b3c",
   "metadata": {},
   "outputs": [
    {
     "name": "stdout",
     "output_type": "stream",
     "text": [
      "[1, 4, 9, 16, 25]\n"
     ]
    }
   ],
   "source": [
    "# Add squares\n",
    "L = [1,2,3,4,5]\n",
    "\n",
    "L1=[i**2 for i in L]\n",
    "print(L1)"
   ]
  },
  {
   "cell_type": "code",
   "execution_count": 13,
   "id": "47f557ae",
   "metadata": {},
   "outputs": [
    {
     "name": "stdout",
     "output_type": "stream",
     "text": [
      "[5, 10, 15, 20, 25, 30, 35, 40, 45, 50]\n"
     ]
    }
   ],
   "source": [
    "# Print all numbers divisible by 5 in the range of 1 to 50\n",
    "L=[i for i in range(1,51) if i%5==0]\n",
    "print(L)"
   ]
  },
  {
   "cell_type": "code",
   "execution_count": 14,
   "id": "0f5a8b4a",
   "metadata": {},
   "outputs": [
    {
     "name": "stdout",
     "output_type": "stream",
     "text": [
      "['python', 'php']\n"
     ]
    }
   ],
   "source": [
    "# Find languages which start with letter p\n",
    "languages=['java','python','php','c','javascript']\n",
    "\n",
    "Lang=[language for language in languages if language.startswith('p')]\n",
    "print(Lang)"
   ]
  },
  {
   "cell_type": "code",
   "execution_count": 15,
   "id": "b868b388",
   "metadata": {},
   "outputs": [
    {
     "name": "stdout",
     "output_type": "stream",
     "text": [
      "['apple']\n"
     ]
    }
   ],
   "source": [
    "# Nested if with List Comprehension\n",
    "basket=['apple','guava','cherry','banana']\n",
    "my_fruits=['apple','kiwi','grapes','banana']\n",
    "\n",
    "# Add new list from my_fruits and items if the fruit exists in basket and also starts with 'a'\n",
    "new_list=[fruit for fruit in my_fruits if fruit in basket if fruit.startswith('a')]\n",
    "print(new_list)"
   ]
  },
  {
   "cell_type": "code",
   "execution_count": 16,
   "id": "b433f623",
   "metadata": {},
   "outputs": [
    {
     "name": "stdout",
     "output_type": "stream",
     "text": [
      "[[1, 2, 3], [2, 4, 6], [3, 6, 9]]\n"
     ]
    }
   ],
   "source": [
    "# Print a (3,3) matrix using list comprehension -> Nested List comprehension\n",
    "L=[[i*j for i in range(1,4)] for j in range(1,4)]\n",
    "print(L)"
   ]
  },
  {
   "cell_type": "code",
   "execution_count": 17,
   "id": "ff59b881",
   "metadata": {},
   "outputs": [
    {
     "data": {
      "text/plain": [
       "[5, 6, 7, 8, 10, 12, 14, 16, 15, 18, 21, 24, 20, 24, 28, 32]"
      ]
     },
     "execution_count": 17,
     "metadata": {},
     "output_type": "execute_result"
    }
   ],
   "source": [
    "# Cartesian products -> List comprehension on 2 lists together\n",
    "L1 = [1,2,3,4]\n",
    "L2 = [5,6,7,8]\n",
    "\n",
    "[i*j for i in L1 for j in L2]"
   ]
  },
  {
   "cell_type": "markdown",
   "id": "0c762eb9",
   "metadata": {},
   "source": [
    "### 2 ways to traverse a list\n",
    "1. itemwise\n",
    "2. indexwise"
   ]
  },
  {
   "cell_type": "code",
   "execution_count": 18,
   "id": "06180684",
   "metadata": {},
   "outputs": [
    {
     "name": "stdout",
     "output_type": "stream",
     "text": [
      "1\n",
      "2\n",
      "3\n",
      "4\n"
     ]
    }
   ],
   "source": [
    "# Itemwise\n",
    "L=[1,2,3,4]\n",
    "for i in L:\n",
    "    print(i)"
   ]
  },
  {
   "cell_type": "code",
   "execution_count": 19,
   "id": "35ba51e9",
   "metadata": {},
   "outputs": [
    {
     "name": "stdout",
     "output_type": "stream",
     "text": [
      "1\n",
      "2\n",
      "3\n",
      "4\n"
     ]
    }
   ],
   "source": [
    "# Indexwise\n",
    "L=[1,2,3,4]\n",
    "for i in range(0,len(L)):\n",
    "    print(L[i])\n"
   ]
  },
  {
   "cell_type": "markdown",
   "id": "3e36656b",
   "metadata": {},
   "source": [
    "# Zip\n",
    "- The zip() function returns a zip object, which is an iterator of tuples where the first item in each passed iterator is paired together, and then the second item in each passed iterator are paired together.\n",
    "- If the passed iterators have different lengths, the iterator with the least items decides the length of the new iterator."
   ]
  },
  {
   "cell_type": "code",
   "execution_count": 20,
   "id": "d08ecd73",
   "metadata": {},
   "outputs": [
    {
     "name": "stdout",
     "output_type": "stream",
     "text": [
      "[(1, -1), (2, -2), (3, -3), (4, -4)]\n",
      "[0, 0, 0, 0]\n"
     ]
    }
   ],
   "source": [
    "# Write a program to add items of 2 lists indexwise\n",
    "L1=[1,2,3,4]\n",
    "L2=[-1,-2,-3,-4]\n",
    "\n",
    "print(list(zip(L1,L2)))\n",
    "print([i+j for i,j in zip(L1,L2)])"
   ]
  },
  {
   "cell_type": "markdown",
   "id": "611c9ddf",
   "metadata": {},
   "source": [
    "### Disadvantages of Python Lists\n",
    "- Slow\n",
    "- Risky usage\n",
    "- eats up more memory"
   ]
  },
  {
   "cell_type": "code",
   "execution_count": 21,
   "id": "abaeb37c-f688-47e1-96e1-b2044592feda",
   "metadata": {},
   "outputs": [
    {
     "name": "stdout",
     "output_type": "stream",
     "text": [
      "[0, 1, 2, 3, 4, 2, 3, 4]\n",
      "[(0, 2), (1, 3), (2, 4)]\n"
     ]
    }
   ],
   "source": [
    "l1=[0,1,2,3,4]\n",
    "l2=[2,3,4]\n",
    "l3=l1+l2\n",
    "print (l3)\n",
    "print(list(zip(l1,l2)))"
   ]
  },
  {
   "cell_type": "code",
   "execution_count": null,
   "id": "a5d624d6-a40a-4601-9958-e19137884791",
   "metadata": {},
   "outputs": [],
   "source": []
  }
 ],
 "metadata": {
  "kernelspec": {
   "display_name": "Python 3 (ipykernel)",
   "language": "python",
   "name": "python3"
  },
  "language_info": {
   "codemirror_mode": {
    "name": "ipython",
    "version": 3
   },
   "file_extension": ".py",
   "mimetype": "text/x-python",
   "name": "python",
   "nbconvert_exporter": "python",
   "pygments_lexer": "ipython3",
   "version": "3.11.3"
  }
 },
 "nbformat": 4,
 "nbformat_minor": 5
}
