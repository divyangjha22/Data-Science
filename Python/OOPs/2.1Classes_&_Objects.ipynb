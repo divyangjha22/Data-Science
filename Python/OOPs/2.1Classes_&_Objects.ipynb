{
 "cells": [
  {
   "cell_type": "markdown",
   "id": "5f34cbcf",
   "metadata": {},
   "source": [
    "### Syntax to create a class & object"
   ]
  },
  {
   "cell_type": "code",
   "execution_count": 1,
   "id": "e2803096",
   "metadata": {},
   "outputs": [
    {
     "name": "stdout",
     "output_type": "stream",
     "text": [
      "<__main__.car object at 0x0000026AFA941950>\n"
     ]
    }
   ],
   "source": [
    "# Class ClassName\n",
    "class car:\n",
    "    \n",
    "    # Data Members\n",
    "    breaks=None\n",
    "    speed=110\n",
    "    \n",
    "    # Member Functions\n",
    "    def apply_breaks():\n",
    "        if speed>=100:\n",
    "            print(\"Apply breaks\")\n",
    "            \n",
    "# ObjectName = ClassName\n",
    "obj1 = car() # Object creation\n",
    "print(obj1)"
   ]
  },
  {
   "cell_type": "markdown",
   "id": "4195b07c",
   "metadata": {},
   "source": [
    "### Constructor & Destructor"
   ]
  },
  {
   "cell_type": "code",
   "execution_count": 2,
   "id": "ed0f988d",
   "metadata": {},
   "outputs": [
    {
     "name": "stdout",
     "output_type": "stream",
     "text": [
      "Employee created.\n",
      "Destructor called, Employee deleted.\n"
     ]
    }
   ],
   "source": [
    "class Employee:\n",
    " \n",
    "    # Constructor\n",
    "    def __init__(self):\n",
    "        print('Employee created.')\n",
    " \n",
    "    # Destructor\n",
    "    def __del__(self):\n",
    "        print('Destructor called, Employee deleted.')\n",
    " \n",
    "obj = Employee()\n",
    "del obj"
   ]
  },
  {
   "cell_type": "markdown",
   "id": "4e9ca429",
   "metadata": {},
   "source": [
    "### Method vs Functions"
   ]
  },
  {
   "cell_type": "code",
   "execution_count": 3,
   "id": "71ce69ce",
   "metadata": {},
   "outputs": [
    {
     "name": "stdout",
     "output_type": "stream",
     "text": [
      "<class 'list'>\n"
     ]
    }
   ],
   "source": [
    "L=[1,2,3,4,5]\n",
    "len(L) # It is a function\n",
    "L.append(6) # It is a method because L is a class if we print the type of L then it will print class List\n",
    "print(type(L))"
   ]
  },
  {
   "cell_type": "markdown",
   "id": "8d47c506",
   "metadata": {},
   "source": [
    "## Creating a Banking Application"
   ]
  },
  {
   "cell_type": "code",
   "execution_count": 4,
   "id": "31ba4614",
   "metadata": {},
   "outputs": [
    {
     "name": "stdout",
     "output_type": "stream",
     "text": [
      "\n",
      "        How can I help you?\n",
      "        1. Press 1 to create pin\n",
      "        2. Press 2 to change pin\n",
      "        3. Press 3 to check balance\n",
      "        4. Press 4 to widthdraw cash\n",
      "        5. Press 0 to exit\n",
      "        0\n"
     ]
    }
   ],
   "source": [
    "class Atm:\n",
    "    \n",
    "    # Creating a constructor\n",
    "    def __init__(self):\n",
    "        self.pin=1234\n",
    "        self.balance=100000\n",
    "        self.menu()\n",
    "        \n",
    "    def menu(self):\n",
    "        user_input=input(\"\"\"\n",
    "        How can I help you?\n",
    "        1. Press 1 to create pin\n",
    "        2. Press 2 to change pin\n",
    "        3. Press 3 to check balance\n",
    "        4. Press 4 to widthdraw cash\n",
    "        5. Press 0 to exit\n",
    "        \"\"\")\n",
    "        \n",
    "        if user_input=='1':\n",
    "            self.create_pin()\n",
    "        elif user_input=='2':\n",
    "            self.change_pin()\n",
    "        elif user_input=='3':\n",
    "            self.check_balance()\n",
    "        elif user_input=='4':\n",
    "            self.widthdraw_cash()\n",
    "        else:\n",
    "            exit()\n",
    "        \n",
    "    def create_pin(self):\n",
    "        user_pin=int(input(\"Enter your pin: \"))\n",
    "        self.pin=user_pin\n",
    "        print(\"Pin created successfully\")\n",
    "        self.menu()\n",
    "        \n",
    "    def change_pin(self):\n",
    "        old_pin=int(input(\"Enter old pin: \"))\n",
    "        \n",
    "        if old_pin == self.pin:\n",
    "            new_pin=int(input(\"Enter new pin: \"))\n",
    "            self.pin=new_pin\n",
    "            print(\"Pin changed successfully\")\n",
    "            self.menu()\n",
    "        else:\n",
    "            print(\"Old pin is incorrect\")\n",
    "        self.menu()\n",
    "        \n",
    "    def check_balance(self):\n",
    "        user_pin=int(input(\"Enter your pin: \"))\n",
    "        if user_pin==self.pin:\n",
    "            print(\"Your current balance is \", self.balance)\n",
    "            self.menu()\n",
    "        else:\n",
    "            print(\"Pin is incorrect\")\n",
    "            self.menu()\n",
    "        \n",
    "    def widthdraw_cash(self):\n",
    "        user_pin=int(input(\"Enter your pin: \"))\n",
    "        \n",
    "        if user_pin==self.pin:\n",
    "            amount=int(input(\"Enter the amount you want to widthdraw: \"))\n",
    "            if amount<=self.balance:\n",
    "                print(\"Collect you cash from counter\")\n",
    "                self.balance=self.balance-amount\n",
    "                print(\"Your current balance is \", self.balance)\n",
    "            else:\n",
    "                print(\"You have insufficient balance\")\n",
    "            self.menu()\n",
    "        \n",
    "        else:\n",
    "            print(\"Pin is incorrect\")\n",
    "\n",
    "# Object initialization        \n",
    "obj=Atm()"
   ]
  },
  {
   "cell_type": "markdown",
   "id": "ec1a020e",
   "metadata": {},
   "source": [
    "### Creating our own data types"
   ]
  },
  {
   "cell_type": "code",
   "execution_count": 5,
   "id": "46522f57",
   "metadata": {},
   "outputs": [
    {
     "name": "stdout",
     "output_type": "stream",
     "text": [
      "1.0\n",
      "0.5\n",
      "0.1875\n",
      "0.1875\n"
     ]
    }
   ],
   "source": [
    "print(3/4 + 1/4)\n",
    "print(3/4 - 1/4)\n",
    "print(3/4 * 1/4)\n",
    "print(3/4 / 1/4)"
   ]
  },
  {
   "cell_type": "markdown",
   "id": "d286770e",
   "metadata": {},
   "source": [
    "- When we try to perform operations on fractions then we are getting result in decimals\n",
    "- But if we want to get result of fractions in fractions then we've to create our own data type which will give us result in fraction when that data type is used."
   ]
  },
  {
   "cell_type": "code",
   "execution_count": 6,
   "id": "50ade296",
   "metadata": {},
   "outputs": [
    {
     "name": "stdout",
     "output_type": "stream",
     "text": [
      "17/12\n",
      "1/12\n",
      "6/12\n",
      "9/8\n"
     ]
    }
   ],
   "source": [
    "class Fraction:\n",
    "    \n",
    "    # Constructor for taking input\n",
    "    def __init__(self, x, y):\n",
    "        self.num=x\n",
    "        self.den=y\n",
    "    \n",
    "    \n",
    "    def __str__(self):\n",
    "        return '{}/{}'.format(self.num,self.den)\n",
    "        \n",
    "    # Logic for addition    \n",
    "    def __add__(self,other): # self is fraction 1 & other is fraction 2\n",
    "        res_num=self.num*other.den + self.den*other.num\n",
    "        res_den=self.den*other.den\n",
    "        return '{}/{}'.format(res_num, res_den)\n",
    "    \n",
    "    # Logic for subtraction\n",
    "    def __sub__(self,other):\n",
    "        new_num = self.num*other.den - other.num*self.den\n",
    "        new_den = self.den*other.den\n",
    "        return '{}/{}'.format(new_num,new_den)\n",
    "    \n",
    "    # Logic for multiplication\n",
    "    def __mul__(self,other):\n",
    "        new_num = self.num*other.num\n",
    "        new_den = self.den*other.den\n",
    "        return '{}/{}'.format(new_num,new_den)\n",
    "    \n",
    "    # Logic for Division\n",
    "    def __truediv__(self,other):\n",
    "        new_num = self.num*other.den\n",
    "        new_den = self.den*other.num\n",
    "        return '{}/{}'.format(new_num,new_den)\n",
    "\n",
    "fr1=Fraction(3,4)\n",
    "fr2=Fraction(2,3)\n",
    "\n",
    "print(fr1+fr2)\n",
    "print(fr1-fr2)\n",
    "print(fr1*fr2)\n",
    "print(fr1/fr2)"
   ]
  }
 ],
 "metadata": {
  "kernelspec": {
   "display_name": "Python 3 (ipykernel)",
   "language": "python",
   "name": "python3"
  },
  "language_info": {
   "codemirror_mode": {
    "name": "ipython",
    "version": 3
   },
   "file_extension": ".py",
   "mimetype": "text/x-python",
   "name": "python",
   "nbconvert_exporter": "python",
   "pygments_lexer": "ipython3",
   "version": "3.11.3"
  }
 },
 "nbformat": 4,
 "nbformat_minor": 5
}
