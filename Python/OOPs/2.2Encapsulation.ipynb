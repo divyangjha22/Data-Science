{
 "cells": [
  {
   "cell_type": "markdown",
   "id": "1b4dc95c",
   "metadata": {},
   "source": [
    "### Reference Variables"
   ]
  },
  {
   "cell_type": "code",
   "execution_count": 1,
   "id": "51372a93",
   "metadata": {},
   "outputs": [
    {
     "name": "stdout",
     "output_type": "stream",
     "text": [
      "Lion\n",
      "Lion\n"
     ]
    }
   ],
   "source": [
    "class Animal:\n",
    "    def __init__(self):\n",
    "        self.A_Category='Lion'\n",
    "        self.A_Designation='King of the Jungle'\n",
    "\n",
    "# Object creation --> By this object is created but we cannot access its arrtibutes & methods\n",
    "Animal()\n",
    "\n",
    "# a is just a reference variable which contains the object. a is not a object\n",
    "a=Animal() # Here a is used as a reference variable\n",
    "\n",
    "# Multiple reference\n",
    "b=a\n",
    "print(a.A_Category)\n",
    "print(b.A_Category)"
   ]
  },
  {
   "cell_type": "markdown",
   "id": "06fba7dd",
   "metadata": {},
   "source": [
    "### Encapsulation"
   ]
  },
  {
   "cell_type": "code",
   "execution_count": 2,
   "id": "4fd9bef1",
   "metadata": {},
   "outputs": [],
   "source": [
    "class Atm:\n",
    "    \n",
    "    # Creating a constructor\n",
    "    def __init__(self):\n",
    "        self.pin=''\n",
    "        self.balance=0\n",
    "        \n",
    "    def menu(self):\n",
    "        user_input=input(\"\"\"\n",
    "        How can I help you?\n",
    "        1. Press 1 to create pin\n",
    "        2. Press 2 to change pin\n",
    "        3. Press 3 to check balance\n",
    "        4. Press 4 to widthdraw cash\n",
    "        5. Press 0 to exit\n",
    "        \"\"\")\n",
    "        \n",
    "        if user_input=='1':\n",
    "            self.create_pin()\n",
    "        elif user_input=='2':\n",
    "            self.change_pin()\n",
    "        elif user_input=='3':\n",
    "            self.check_balance()\n",
    "        elif user_input=='4':\n",
    "            self.widthdraw_cash()\n",
    "        else:\n",
    "            exit()\n",
    "        \n",
    "    def create_pin(self):\n",
    "        user_pin=input(\"Enter your pin: \")\n",
    "        self.pin=user_pin\n",
    "        \n",
    "        user_balance=int(input('Enter balance: '))\n",
    "        self.balance=user_balance\n",
    "        \n",
    "        print(\"Pin created successfully\")\n",
    "        \n",
    "    def change_pin(self):\n",
    "        old_pin=input(\"Enter old pin: \")\n",
    "        \n",
    "        if old_pin == self.pin:\n",
    "            new_pin=input(\"Enter new pin: \")\n",
    "            self.pin=new_pin\n",
    "            print(\"Pin changed successfully\")\n",
    "        else:\n",
    "            print(\"Old pin is incorrect\")\n",
    "        \n",
    "    def check_balance(self):\n",
    "        user_pin=input(\"Enter your pin: \")\n",
    "        if user_pin==self.pin:\n",
    "            print(\"Your current balance is \", self.balance)\n",
    "        else:\n",
    "            print(\"Pin is incorrect\")\n",
    "        \n",
    "    def widthdraw_cash(self):\n",
    "        user_pin=input(\"Enter your pin: \")\n",
    "        \n",
    "        if user_pin==self.pin:\n",
    "            amount=int(input(\"Enter the amount you want to widthdraw: \"))\n",
    "            if amount<=self.balance:\n",
    "                print(\"Collect you cash from counter\")\n",
    "                self.balance=self.balance-amount\n",
    "                print(\"Your current balance is \", self.balance)\n",
    "            else:\n",
    "                print(\"You have in-sufficient balance\")\n",
    "        \n",
    "        else:\n",
    "            print(\"Pin is incorrect\")\n",
    "\n",
    "# Object initialization        \n",
    "obj=Atm()"
   ]
  },
  {
   "cell_type": "code",
   "execution_count": 3,
   "id": "5b05f759",
   "metadata": {},
   "outputs": [
    {
     "name": "stdout",
     "output_type": "stream",
     "text": [
      "Enter your pin: 123\n",
      "Enter balance: 9000\n",
      "Pin created successfully\n"
     ]
    }
   ],
   "source": [
    "obj.create_pin()\n",
    "obj.balance=500"
   ]
  },
  {
   "cell_type": "code",
   "execution_count": 4,
   "id": "2e9368fa",
   "metadata": {},
   "outputs": [
    {
     "name": "stdout",
     "output_type": "stream",
     "text": [
      "Enter your pin: 123\n",
      "Enter the amount you want to widthdraw: 5000\n",
      "You have in-sufficient balance\n"
     ]
    }
   ],
   "source": [
    "obj.widthdraw_cash()"
   ]
  },
  {
   "cell_type": "markdown",
   "id": "69e73e16",
   "metadata": {},
   "source": [
    "- Here we can observe that anyone can make changes which may be harmfull\n",
    "- To overcome this we can set some data members & methods(member functions) as private."
   ]
  },
  {
   "cell_type": "code",
   "execution_count": 5,
   "id": "e8da2e5d",
   "metadata": {},
   "outputs": [],
   "source": [
    "class Secure_Atm:\n",
    "    \n",
    "    # Creating a constructor\n",
    "    def __init__(self):\n",
    "        self.pin=''\n",
    "        self.__balance=0 # Setting as private\n",
    "        \n",
    "    def menu(self):\n",
    "        user_input=input(\"\"\"\n",
    "        How can I help you?\n",
    "        1. Press 1 to create pin\n",
    "        2. Press 2 to change pin\n",
    "        3. Press 3 to check balance\n",
    "        4. Press 4 to widthdraw cash\n",
    "        5. Press 0 to exit\n",
    "        \"\"\")\n",
    "        \n",
    "        if user_input=='1':\n",
    "            self.create_pin()\n",
    "        elif user_input=='2':\n",
    "            self.change_pin()\n",
    "        elif user_input=='3':\n",
    "            self.check_balance()\n",
    "        elif user_input=='4':\n",
    "            self.widthdraw_cash()\n",
    "        else:\n",
    "            exit()\n",
    "        \n",
    "    def create_pin(self):\n",
    "        user_pin=input(\"Enter your pin: \")\n",
    "        self.pin=user_pin\n",
    "        \n",
    "        user_balance=int(input('Enter balance: '))\n",
    "        self.__balance=user_balance\n",
    "        \n",
    "        print(\"Pin created successfully\")\n",
    "        \n",
    "    def change_pin(self):\n",
    "        old_pin=input(\"Enter old pin: \")\n",
    "        \n",
    "        if old_pin == self.pin:\n",
    "            new_pin=input(\"Enter new pin: \")\n",
    "            self.pin=new_pin\n",
    "            print(\"Pin changed successfully\")\n",
    "        else:\n",
    "            print(\"Old pin is incorrect\")\n",
    "        \n",
    "    def check_balance(self):\n",
    "        user_pin=input(\"Enter your pin: \")\n",
    "        if user_pin==self.pin:\n",
    "            print(\"Your current balance is \", self.__balance)\n",
    "        else:\n",
    "            print(\"Pin is incorrect\")\n",
    "        \n",
    "    def widthdraw_cash(self):\n",
    "        user_pin=input(\"Enter your pin: \")\n",
    "        \n",
    "        if user_pin==self.pin:\n",
    "            amount=int(input(\"Enter the amount you want to widthdraw: \"))\n",
    "            if amount<=self.__balance:\n",
    "                print(\"Collect you cash from counter\")\n",
    "                self.__balance=self.__balance-amount\n",
    "                print(\"Your current balance is \", self.__balance)\n",
    "            else:\n",
    "                print(\"You have in-sufficient balance\")\n",
    "        \n",
    "        else:\n",
    "            print(\"Pin is incorrect\")\n",
    "\n",
    "# Object initialization        \n",
    "obj1=Secure_Atm()"
   ]
  },
  {
   "cell_type": "code",
   "execution_count": 6,
   "id": "818fbbe2",
   "metadata": {},
   "outputs": [
    {
     "name": "stdout",
     "output_type": "stream",
     "text": [
      "Enter your pin: 123\n",
      "Enter balance: 9000\n",
      "Pin created successfully\n"
     ]
    }
   ],
   "source": [
    "obj1.create_pin()\n",
    "obj1.__balance=500"
   ]
  },
  {
   "cell_type": "code",
   "execution_count": 7,
   "id": "ef66c87e",
   "metadata": {},
   "outputs": [
    {
     "name": "stdout",
     "output_type": "stream",
     "text": [
      "Enter your pin: 123\n",
      "Enter the amount you want to widthdraw: 8000\n",
      "Collect you cash from counter\n",
      "Your current balance is  1000\n"
     ]
    }
   ],
   "source": [
    "obj1.widthdraw_cash()"
   ]
  },
  {
   "cell_type": "markdown",
   "id": "fbe39c0d",
   "metadata": {},
   "source": [
    "In python, nothing is completely private so we can also access private members of a class. With the help of protected member achieved by single underscore(_)"
   ]
  },
  {
   "cell_type": "code",
   "execution_count": 8,
   "id": "8b8d184d",
   "metadata": {},
   "outputs": [
    {
     "name": "stdout",
     "output_type": "stream",
     "text": [
      "Enter your pin: 123\n",
      "Enter balance: 9000\n",
      "Pin created successfully\n"
     ]
    }
   ],
   "source": [
    "obj1.create_pin()\n",
    "obj1._Secure_Atm__balance=500"
   ]
  },
  {
   "cell_type": "code",
   "execution_count": 9,
   "id": "294567f0",
   "metadata": {},
   "outputs": [
    {
     "name": "stdout",
     "output_type": "stream",
     "text": [
      "Enter your pin: 123\n",
      "Enter the amount you want to widthdraw: 8000\n",
      "You have in-sufficient balance\n"
     ]
    }
   ],
   "source": [
    "obj1.widthdraw_cash()"
   ]
  },
  {
   "cell_type": "markdown",
   "id": "a2ef8bbf",
   "metadata": {},
   "source": [
    "### Getters & Setters"
   ]
  },
  {
   "cell_type": "code",
   "execution_count": 10,
   "id": "3c456062",
   "metadata": {},
   "outputs": [],
   "source": [
    "class Secure_Atm:\n",
    "    \n",
    "    # Creating a constructor\n",
    "    def __init__(self):\n",
    "        self.pin=''\n",
    "        self.__balance=0 # Setting as private\n",
    "    \n",
    "    # Getter\n",
    "    def get_balance(self):\n",
    "        return self.__balance\n",
    "\n",
    "    # Setter\n",
    "    def set_balance(self,new_value):\n",
    "        if type(new_value) == int:\n",
    "            self.__balance = new_value\n",
    "        else:\n",
    "            print('beta bahot maarenge')\n",
    "        \n",
    "    def menu(self):\n",
    "        user_input=input(\"\"\"\n",
    "        How can I help you?\n",
    "        1. Press 1 to create pin\n",
    "        2. Press 2 to change pin\n",
    "        3. Press 3 to check balance\n",
    "        4. Press 4 to widthdraw cash\n",
    "        5. Press 0 to exit\n",
    "        \"\"\")\n",
    "        \n",
    "        if user_input=='1':\n",
    "            self.create_pin()\n",
    "        elif user_input=='2':\n",
    "            self.change_pin()\n",
    "        elif user_input=='3':\n",
    "            self.check_balance()\n",
    "        elif user_input=='4':\n",
    "            self.widthdraw_cash()\n",
    "        else:\n",
    "            exit()\n",
    "        \n",
    "    def create_pin(self):\n",
    "        user_pin=input(\"Enter your pin: \")\n",
    "        self.pin=user_pin\n",
    "        \n",
    "        user_balance=int(input('Enter balance: '))\n",
    "        self.__balance=user_balance\n",
    "        \n",
    "        print(\"Pin created successfully\")\n",
    "        \n",
    "    def change_pin(self):\n",
    "        old_pin=input(\"Enter old pin: \")\n",
    "        \n",
    "        if old_pin == self.pin:\n",
    "            new_pin=input(\"Enter new pin: \")\n",
    "            self.pin=new_pin\n",
    "            print(\"Pin changed successfully\")\n",
    "        else:\n",
    "            print(\"Old pin is incorrect\")\n",
    "        \n",
    "    def check_balance(self):\n",
    "        user_pin=input(\"Enter your pin: \")\n",
    "        if user_pin==self.pin:\n",
    "            print(\"Your current balance is \", self.__balance)\n",
    "        else:\n",
    "            print(\"Pin is incorrect\")\n",
    "        \n",
    "    def widthdraw_cash(self):\n",
    "        user_pin=input(\"Enter your pin: \")\n",
    "        \n",
    "        if user_pin==self.pin:\n",
    "            amount=int(input(\"Enter the amount you want to widthdraw: \"))\n",
    "            if amount<=self.__balance:\n",
    "                print(\"Collect you cash from counter\")\n",
    "                self.__balance=self.__balance-amount\n",
    "                print(\"Your current balance is \", self.__balance)\n",
    "            else:\n",
    "                print(\"You have in-sufficient balance\")\n",
    "        \n",
    "        else:\n",
    "            print(\"Pin is incorrect\")\n",
    "\n",
    "# Object initialization        \n",
    "obj1=Secure_Atm()"
   ]
  },
  {
   "cell_type": "code",
   "execution_count": 11,
   "id": "a0d1cb6b",
   "metadata": {},
   "outputs": [
    {
     "data": {
      "text/plain": [
       "0"
      ]
     },
     "execution_count": 11,
     "metadata": {},
     "output_type": "execute_result"
    }
   ],
   "source": [
    "# obj1.__balance  # Not able to access private data directly\n",
    "obj1.get_balance() # Private data can be accessed using getters"
   ]
  },
  {
   "cell_type": "code",
   "execution_count": 12,
   "id": "9dd5cc5b",
   "metadata": {},
   "outputs": [
    {
     "data": {
      "text/plain": [
       "1000"
      ]
     },
     "execution_count": 12,
     "metadata": {},
     "output_type": "execute_result"
    }
   ],
   "source": [
    "# Setting the value of private data using setters from outside the class\n",
    "obj1.set_balance(1000)\n",
    "obj1.get_balance()"
   ]
  },
  {
   "cell_type": "markdown",
   "id": "6f3e9b19",
   "metadata": {},
   "source": [
    "## Static Variable\n",
    "- Instance variable is the variable whose value is different for different object.\n",
    "- Instance variable is variable for object.\n",
    "- Used when we need different values for different users.\n",
    "- Variables declared/initialized under the class (not inside any constructor or methods) are static variables.\n",
    "- Called using classname.data\n",
    "## Instance Variable\n",
    "- Static Variable is the variable whose value is same for different objects.\n",
    "- Static variable is variable for object.\n",
    "- Used when we need same value for different users.\n",
    "- Variables declared/initialized under the constructor are static variables.\n",
    "- Called using self.data"
   ]
  },
  {
   "cell_type": "code",
   "execution_count": 13,
   "id": "1434e0fb",
   "metadata": {},
   "outputs": [],
   "source": [
    "class Atm:\n",
    "    \n",
    "    # Static Variable\n",
    "    counter=1\n",
    "    \n",
    "    def __init__(self):\n",
    "        \n",
    "        # Instance variable\n",
    "        self.pin=''\n",
    "        self.balance=0\n",
    "        self.customer_id=Atm.counter\n",
    "        Atm.counter=Atm.counter+1\n",
    "        \n",
    "    def menu(self):\n",
    "        user_input=input(\"\"\"\n",
    "        How can I help you?\n",
    "        1. Press 1 to create pin\n",
    "        2. Press 2 to change pin\n",
    "        3. Press 3 to check balance\n",
    "        4. Press 4 to widthdraw cash\n",
    "        5. Press 0 to exit\n",
    "        \"\"\")\n",
    "        \n",
    "        if user_input=='1':\n",
    "            self.create_pin()\n",
    "        elif user_input=='2':\n",
    "            self.change_pin()\n",
    "        elif user_input=='3':\n",
    "            self.check_balance()\n",
    "        elif user_input=='4':\n",
    "            self.widthdraw_cash()\n",
    "        else:\n",
    "            exit()\n",
    "        \n",
    "    def create_pin(self):\n",
    "        user_pin=input(\"Enter your pin: \")\n",
    "        self.pin=user_pin\n",
    "        \n",
    "        user_balance=int(input('Enter balance: '))\n",
    "        self.balance=user_balance\n",
    "        \n",
    "        print(\"Pin created successfully\")\n",
    "        \n",
    "    def change_pin(self):\n",
    "        old_pin=input(\"Enter old pin: \")\n",
    "        \n",
    "        if old_pin == self.pin:\n",
    "            new_pin=input(\"Enter new pin: \")\n",
    "            self.pin=new_pin\n",
    "            print(\"Pin changed successfully\")\n",
    "        else:\n",
    "            print(\"Old pin is incorrect\")\n",
    "        \n",
    "    def check_balance(self):\n",
    "        user_pin=input(\"Enter your pin: \")\n",
    "        if user_pin==self.pin:\n",
    "            print(\"Your current balance is \", self.balance)\n",
    "        else:\n",
    "            print(\"Pin is incorrect\")\n",
    "        \n",
    "    def widthdraw_cash(self):\n",
    "        user_pin=input(\"Enter your pin: \")\n",
    "        \n",
    "        if user_pin==self.pin:\n",
    "            amount=int(input(\"Enter the amount you want to widthdraw: \"))\n",
    "            if amount<=self.balance:\n",
    "                print(\"Collect you cash from counter\")\n",
    "                self.balance=self.balance-amount\n",
    "                print(\"Your current balance is \", self.balance)\n",
    "            else:\n",
    "                print(\"You have in-sufficient balance\")\n",
    "        \n",
    "        else:\n",
    "            print(\"Pin is incorrect\")\n",
    "\n",
    "# Object initialization        \n",
    "obj1=Atm()\n",
    "obj2=Atm()\n",
    "obj3=Atm()"
   ]
  },
  {
   "cell_type": "code",
   "execution_count": 14,
   "id": "7320ea6a",
   "metadata": {},
   "outputs": [
    {
     "data": {
      "text/plain": [
       "1"
      ]
     },
     "execution_count": 14,
     "metadata": {},
     "output_type": "execute_result"
    }
   ],
   "source": [
    "obj1.customer_id"
   ]
  },
  {
   "cell_type": "code",
   "execution_count": 15,
   "id": "b059a45b",
   "metadata": {},
   "outputs": [
    {
     "data": {
      "text/plain": [
       "2"
      ]
     },
     "execution_count": 15,
     "metadata": {},
     "output_type": "execute_result"
    }
   ],
   "source": [
    "obj2.customer_id"
   ]
  },
  {
   "cell_type": "code",
   "execution_count": 16,
   "id": "da25905b",
   "metadata": {},
   "outputs": [
    {
     "data": {
      "text/plain": [
       "3"
      ]
     },
     "execution_count": 16,
     "metadata": {},
     "output_type": "execute_result"
    }
   ],
   "source": [
    "obj3.customer_id"
   ]
  },
  {
   "cell_type": "code",
   "execution_count": 17,
   "id": "98e04fa8",
   "metadata": {},
   "outputs": [
    {
     "data": {
      "text/plain": [
       "4"
      ]
     },
     "execution_count": 17,
     "metadata": {},
     "output_type": "execute_result"
    }
   ],
   "source": [
    "Atm.counter"
   ]
  }
 ],
 "metadata": {
  "kernelspec": {
   "display_name": "Python 3 (ipykernel)",
   "language": "python",
   "name": "python3"
  },
  "language_info": {
   "codemirror_mode": {
    "name": "ipython",
    "version": 3
   },
   "file_extension": ".py",
   "mimetype": "text/x-python",
   "name": "python",
   "nbconvert_exporter": "python",
   "pygments_lexer": "ipython3",
   "version": "3.11.3"
  }
 },
 "nbformat": 4,
 "nbformat_minor": 5
}
