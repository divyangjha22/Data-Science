{
 "cells": [
  {
   "cell_type": "markdown",
   "id": "7e93a5d8",
   "metadata": {},
   "source": [
    "# Class Relationships\n",
    "- Whenever we develop an application we creates multiple classes & most of the time classes have some sort of relationships from each other. There are commonly two types of relationship.\n",
    "1. Aggregation\n",
    "2. Inheritance"
   ]
  },
  {
   "cell_type": "markdown",
   "id": "5b33ce0c",
   "metadata": {},
   "source": [
    "### Aggregation"
   ]
  },
  {
   "cell_type": "code",
   "execution_count": 1,
   "id": "ad20fca5",
   "metadata": {},
   "outputs": [
    {
     "name": "stdout",
     "output_type": "stream",
     "text": [
      "Bundi 323001 Rajasthan\n",
      "mumbai 111111 maharastra\n"
     ]
    }
   ],
   "source": [
    "class Customer:\n",
    "\n",
    "    # Constructor\n",
    "    def __init__(self, name, gender, address):\n",
    "        self.name=name\n",
    "        self.gender=gender\n",
    "        self.address=address\n",
    "    \n",
    "    # Printing the customer address\n",
    "    def print_address(self):\n",
    "        \n",
    "        # In python, while using aggregation we cannot access privata data into other class.\n",
    "        # But we can use protected access modifier\n",
    "        print(self.address._Address__city, self.address.pin, self.address.state)\n",
    "\n",
    "    def edit_profile(self, new_name, new_city, new_pin, new_state):\n",
    "        self.name = new_name\n",
    "        self.address.edit_address(new_city, new_pin, new_state)\n",
    "\n",
    "class Address:\n",
    "\n",
    "    def __init__(self, city, pin, state):\n",
    "        self.__city = city\n",
    "        self.pin = pin\n",
    "        self.state = state\n",
    "    \n",
    "    # For accessing privata data we can also use getters & setters.\n",
    "    def get_city(self):\n",
    "        return self.__city\n",
    "\n",
    "    def edit_address(self,new_city,new_pin,new_state):\n",
    "        self.__city = new_city\n",
    "        self.pin = new_pin\n",
    "        self.state = new_state\n",
    "\n",
    "add1 = Address('Bundi',323001,'Rajasthan')\n",
    "cust = Customer('Divyang','male',add1)\n",
    "\n",
    "cust.print_address()\n",
    "\n",
    "cust.edit_profile('ankit','mumbai',111111,'maharastra')\n",
    "cust.print_address()"
   ]
  },
  {
   "cell_type": "markdown",
   "id": "b170fcf5",
   "metadata": {},
   "source": [
    "### Inheritance"
   ]
  },
  {
   "cell_type": "code",
   "execution_count": 16,
   "id": "e5056754",
   "metadata": {},
   "outputs": [
    {
     "name": "stdout",
     "output_type": "stream",
     "text": [
      "Divyang\n",
      "Male\n",
      "Login Successful\n",
      "Average ratings are 4.5 for this course\n"
     ]
    }
   ],
   "source": [
    "# Parent Class\n",
    "class User:\n",
    "    def __init__(self):\n",
    "        self.name='Divyang'\n",
    "        self.gender='Male'\n",
    "        \n",
    "    def login(self):\n",
    "        print('Login Successful')\n",
    "\n",
    "# Child Class\n",
    "class Student(User): \n",
    "    def review(self):\n",
    "        print('Average ratings are 4.5 for this course')\n",
    "\n",
    "parent_class=User()\n",
    "Inherited_class=Student()\n",
    "\n",
    "# Accessing attributes\n",
    "print(Inherited_class.name)\n",
    "print(Inherited_class.gender)\n",
    "\n",
    "# Accessing Methods\n",
    "Inherited_class.login()\n",
    "Inherited_class.review()"
   ]
  },
  {
   "cell_type": "markdown",
   "id": "1fdda509",
   "metadata": {},
   "source": [
    "### What gets inherited?\n",
    "1. Constructor\n",
    "2. Non Private Attributes\n",
    "3. Non Private Methods\n",
    "\n",
    "### Constructor Examples"
   ]
  },
  {
   "cell_type": "code",
   "execution_count": 18,
   "id": "4f923257",
   "metadata": {},
   "outputs": [
    {
     "name": "stdout",
     "output_type": "stream",
     "text": [
      "Inside phone constructor\n",
      "Buying a phone\n"
     ]
    }
   ],
   "source": [
    "# This example shows that if the child class has no constructor then parent constructor is called.\n",
    "\n",
    "# Parent Class\n",
    "class Phone:\n",
    "    \n",
    "    # Constructor\n",
    "    def __init__(self, price, brand, camera):\n",
    "        print (\"Inside phone constructor\")\n",
    "        self.price = price\n",
    "        self.brand = brand\n",
    "        self.camera = camera\n",
    "    \n",
    "    # Method\n",
    "    def buy(self):\n",
    "        print (\"Buying a phone\")\n",
    "\n",
    "# Child Class\n",
    "class SmartPhone(Phone):\n",
    "    pass\n",
    "\n",
    "s=SmartPhone(20000, \"Apple\", 13)\n",
    "s.buy()"
   ]
  },
  {
   "cell_type": "code",
   "execution_count": 21,
   "id": "3e2d9160",
   "metadata": {},
   "outputs": [
    {
     "name": "stdout",
     "output_type": "stream",
     "text": [
      "Inside SmartPhone constructor\n"
     ]
    }
   ],
   "source": [
    "class Phone:\n",
    "    def __init__(self, price, brand, camera):\n",
    "        \n",
    "        print (\"Inside phone constructor\")\n",
    "        self.__price = price # Private data member\n",
    "        self.brand = brand\n",
    "        self.camera = camera\n",
    "\n",
    "class SmartPhone(Phone):\n",
    "    def __init__(self, os, ram):\n",
    "        self.os = os\n",
    "        self.ram = ram\n",
    "        print (\"Inside SmartPhone constructor\")\n",
    "\n",
    "# This line will give error because this attribute lies in the parent class constructor & \n",
    "# we are calling it through child class so first child class will check its own constructor & \n",
    "# there is no such attribute & shows error.\n",
    "\n",
    "# s.brand\n",
    "\n",
    "# As explained above child construcor is called, this phenomenon is known as constructor overloading\n",
    "s=SmartPhone(\"Android\", 2)"
   ]
  },
  {
   "cell_type": "code",
   "execution_count": 23,
   "id": "cf0e53c3",
   "metadata": {},
   "outputs": [
    {
     "name": "stdout",
     "output_type": "stream",
     "text": [
      "Inside phone constructor\n",
      "20000\n"
     ]
    }
   ],
   "source": [
    "# child class cannot access private members of the class but we can access them through getters \n",
    "\n",
    "class Phone:\n",
    "    def __init__(self, price, brand, camera):\n",
    "        print (\"Inside phone constructor\")\n",
    "        self.__price = price\n",
    "        self.brand = brand\n",
    "        self.camera = camera\n",
    "\n",
    "    #getter\n",
    "    def show(self):\n",
    "        print (self.__price)\n",
    "\n",
    "class SmartPhone(Phone):\n",
    "    def check(self):\n",
    "        print(self.__price)\n",
    "\n",
    "s=SmartPhone(20000, \"Apple\", 13)\n",
    "# s.__price # This will show error we cannot access & update private attributes & methods without getters & setters\n",
    "s.show()"
   ]
  },
  {
   "cell_type": "markdown",
   "id": "d4a71c7e",
   "metadata": {},
   "source": [
    "### Super Keyword"
   ]
  },
  {
   "cell_type": "code",
   "execution_count": 2,
   "id": "231977ab",
   "metadata": {},
   "outputs": [
    {
     "name": "stdout",
     "output_type": "stream",
     "text": [
      "Inside phone constructor\n",
      "Buying a smartphone\n",
      "Buying a phone\n"
     ]
    }
   ],
   "source": [
    "class Phone:\n",
    "    def __init__(self, price, brand, camera):\n",
    "        print (\"Inside phone constructor\")\n",
    "        self.__price = price\n",
    "        self.brand = brand\n",
    "        self.camera = camera\n",
    "\n",
    "    def buy(self):\n",
    "        print (\"Buying a phone\")\n",
    "\n",
    "class SmartPhone(Phone):\n",
    "    def buy(self):\n",
    "        print (\"Buying a smartphone\")\n",
    "        \n",
    "        # syntax to call parent class method\n",
    "        super().buy()\n",
    "\n",
    "s=SmartPhone(20000, \"Apple\", 13)\n",
    "\n",
    "s.buy()"
   ]
  },
  {
   "cell_type": "code",
   "execution_count": 5,
   "id": "5d0db848",
   "metadata": {},
   "outputs": [
    {
     "name": "stdout",
     "output_type": "stream",
     "text": [
      "Inside phone constructor\n",
      "Inside smartphone constructor\n",
      "Android\n",
      "Samsung\n"
     ]
    }
   ],
   "source": [
    "class Phone:\n",
    "    def __init__(self, price, brand, camera):\n",
    "        print (\"Inside phone constructor\")\n",
    "        self.__price = price\n",
    "        self.brand = brand\n",
    "        self.camera = camera\n",
    "\n",
    "class SmartPhone(Phone):\n",
    "    def __init__(self, price, brand, camera, os, ram):\n",
    "        \n",
    "        # Calling parent class constructor.\n",
    "        super().__init__(price, brand, camera)\n",
    "        self.os = os\n",
    "        self.ram = ram\n",
    "        print (\"Inside smartphone constructor\")\n",
    "\n",
    "s=SmartPhone(20000, \"Samsung\", 12, \"Android\", 2)\n",
    "\n",
    "print(s.os)\n",
    "print(s.brand)"
   ]
  },
  {
   "cell_type": "markdown",
   "id": "5a33d7fb",
   "metadata": {},
   "source": [
    "### Types of Inheritance\n",
    "- Single Inheritance\n",
    "- Multilevel Inheritance\n",
    "- Hierarchical Inheritance\n",
    "- Multiple Inheritance(Diamond Problem)\n",
    "- Hybrid Inheritance"
   ]
  },
  {
   "cell_type": "code",
   "execution_count": 8,
   "id": "ccd50553",
   "metadata": {},
   "outputs": [
    {
     "name": "stdout",
     "output_type": "stream",
     "text": [
      "Parent class constructor\n",
      "Buying a phone\n"
     ]
    }
   ],
   "source": [
    "# single inheritance\n",
    "\n",
    "# Parent Class\n",
    "class Phone:\n",
    "    def __init__(self, price, brand, camera):\n",
    "        print(\"Parent class constructor\")\n",
    "        self.__price=price # Private attribute\n",
    "        self.brand=brand\n",
    "        self.camera=camera\n",
    "\n",
    "    def buy(self):\n",
    "        print(\"Buying a phone\")\n",
    "        \n",
    "# Child Class\n",
    "class SmartPhone(Phone):\n",
    "    pass\n",
    "\n",
    "SmartPhone(1000,\"Apple\",\"13px\").buy()"
   ]
  },
  {
   "cell_type": "code",
   "execution_count": 9,
   "id": "6ffd746f",
   "metadata": {},
   "outputs": [
    {
     "name": "stdout",
     "output_type": "stream",
     "text": [
      "Inside phone constructor\n",
      "Buying a phone\n",
      "Product customer review\n"
     ]
    }
   ],
   "source": [
    "# Multilevel\n",
    "\n",
    "# Parent class\n",
    "class Product:\n",
    "    def review(self):\n",
    "        print (\"Product customer review\")\n",
    "\n",
    "# Child class of Product & parent class for Smartphone\n",
    "class Phone(Product):\n",
    "    def __init__(self, price, brand, camera):\n",
    "        print (\"Inside phone constructor\")\n",
    "        self.__price = price\n",
    "        self.brand = brand\n",
    "        self.camera = camera\n",
    "\n",
    "    def buy(self):\n",
    "        print (\"Buying a phone\")\n",
    "\n",
    "# Child class of Phone which has inherited the properties of product class.\n",
    "#  Results this class has properties of 2 classes product class & Phone class.\n",
    "class SmartPhone(Phone):\n",
    "    pass\n",
    "\n",
    "s=SmartPhone(20000, \"Apple\", 12)\n",
    "\n",
    "s.buy()\n",
    "s.review()"
   ]
  },
  {
   "cell_type": "code",
   "execution_count": 10,
   "id": "8e4f76e3",
   "metadata": {},
   "outputs": [
    {
     "name": "stdout",
     "output_type": "stream",
     "text": [
      "Inside phone constructor\n",
      "Buying a phone\n",
      "Inside phone constructor\n",
      "Buying a phone\n"
     ]
    }
   ],
   "source": [
    "# Hierarchical\n",
    "\n",
    "# Parent class\n",
    "class Phone:\n",
    "    def __init__(self, price, brand, camera):\n",
    "        print (\"Inside phone constructor\")\n",
    "        self.__price = price\n",
    "        self.brand = brand\n",
    "        self.camera = camera\n",
    "\n",
    "    def buy(self):\n",
    "        print (\"Buying a phone\")\n",
    "\n",
    "# Child class has inherited phone class\n",
    "class SmartPhone(Phone):\n",
    "    pass\n",
    "\n",
    "# Child class has inherited phone class\n",
    "class FeaturePhone(Phone):\n",
    "    pass\n",
    "\n",
    "SmartPhone(1000,\"Apple\",\"13px\").buy()\n",
    "FeaturePhone(10,\"Lava\",\"1px\").buy()"
   ]
  },
  {
   "cell_type": "code",
   "execution_count": 11,
   "id": "2bff5482",
   "metadata": {},
   "outputs": [
    {
     "name": "stdout",
     "output_type": "stream",
     "text": [
      "Inside phone constructor\n",
      "Buying a phone\n",
      "Customer review\n"
     ]
    }
   ],
   "source": [
    "# Multiple\n",
    "\n",
    "# Parent class 1\n",
    "class Phone:\n",
    "    def __init__(self, price, brand, camera):\n",
    "        print (\"Inside phone constructor\")\n",
    "        self.__price = price\n",
    "        self.brand = brand\n",
    "        self.camera = camera\n",
    "\n",
    "    def buy(self):\n",
    "        print (\"Buying a phone\")\n",
    "\n",
    "# Parent class 2\n",
    "class Product:\n",
    "    def review(self):\n",
    "        print (\"Customer review\")\n",
    "\n",
    "# Child class has inherited multiple parent classes\n",
    "class SmartPhone(Phone, Product):\n",
    "    pass\n",
    "\n",
    "s=SmartPhone(20000, \"Apple\", 12)\n",
    "\n",
    "s.buy()\n",
    "s.review()\n"
   ]
  },
  {
   "cell_type": "markdown",
   "id": "3575eb87",
   "metadata": {},
   "source": [
    "### Diamond Problem"
   ]
  },
  {
   "cell_type": "code",
   "execution_count": 13,
   "id": "afff7584",
   "metadata": {},
   "outputs": [
    {
     "name": "stdout",
     "output_type": "stream",
     "text": [
      "Inside phone constructor\n",
      "Product buy method\n"
     ]
    }
   ],
   "source": [
    "# Class 1\n",
    "class Phone:\n",
    "    def __init__(self, price, brand, camera):\n",
    "        print (\"Inside phone constructor\")\n",
    "        self.__price = price\n",
    "        self.brand = brand\n",
    "        self.camera = camera\n",
    "\n",
    "    def buy(self):\n",
    "        print (\"Buying a phone\")\n",
    "\n",
    "# Class 2\n",
    "class Product:\n",
    "    def buy(self):\n",
    "        print (\"Product buy method\")\n",
    "\n",
    "# Child class\n",
    "class SmartPhone(Product, Phone):\n",
    "    pass\n",
    "\n",
    "s=SmartPhone(20000, \"Apple\", 12)\n",
    "\n",
    "s.buy()"
   ]
  },
  {
   "cell_type": "code",
   "execution_count": 14,
   "id": "b582146c",
   "metadata": {},
   "outputs": [
    {
     "name": "stdout",
     "output_type": "stream",
     "text": [
      "In Class2\n"
     ]
    }
   ],
   "source": [
    "# Example 2\n",
    "class Class1:\n",
    "    def m(self):\n",
    "        print(\"In Class1\") \n",
    "       \n",
    "class Class2(Class1):\n",
    "    def m(self):\n",
    "        print(\"In Class2\")\n",
    " \n",
    "class Class3(Class1):\n",
    "    def m(self):\n",
    "        print(\"In Class3\")  \n",
    "        \n",
    "class Class4(Class2, Class3):\n",
    "    pass  \n",
    "     \n",
    "obj = Class4()\n",
    "obj.m()"
   ]
  },
  {
   "cell_type": "markdown",
   "id": "d71e9657",
   "metadata": {},
   "source": [
    "# Polymorphism\n",
    "### 1. Method Overriding"
   ]
  },
  {
   "cell_type": "code",
   "execution_count": 1,
   "id": "b1f4ac6b",
   "metadata": {},
   "outputs": [
    {
     "name": "stdout",
     "output_type": "stream",
     "text": [
      "Inside phone constructor\n",
      "Buying a smartphone\n"
     ]
    }
   ],
   "source": [
    "# Parent Class\n",
    "class Phone:\n",
    "    def __init__(self, price, brand, camera):\n",
    "        print (\"Inside phone constructor\")\n",
    "        self.__price = price\n",
    "        self.brand = brand\n",
    "        self.camera = camera\n",
    "\n",
    "    def buy(self):\n",
    "        print (\"Buying a phone\")\n",
    "\n",
    "# Child Class\n",
    "class SmartPhone(Phone):\n",
    "    def buy(self):\n",
    "        print (\"Buying a smartphone\")\n",
    "\n",
    "s=SmartPhone(20000, \"Apple\", 13)\n",
    "\n",
    "# There are two functions (one in parent class & one in child class) with same name, on calling child class method is called.\n",
    "s.buy()"
   ]
  },
  {
   "cell_type": "markdown",
   "id": "52c8b8ae",
   "metadata": {},
   "source": [
    "### 2. Method Overloading"
   ]
  },
  {
   "cell_type": "code",
   "execution_count": 17,
   "id": "4efe9cb6",
   "metadata": {},
   "outputs": [
    {
     "name": "stdout",
     "output_type": "stream",
     "text": [
      "2\n",
      "12\n"
     ]
    }
   ],
   "source": [
    "# In this code there are two methods with same name are present & behaves differently.\n",
    "# When only one input is entered method 1 will called If 2 inputs are entered then method 2 is called.\n",
    "# Method 1 returns the area of circle where input is the radius & method 2 will returns the area of rectangle.\n",
    "\n",
    "# So we can say that method overloading will increase the code redability, make the code cleaner & reduces the line of codes.\n",
    "\n",
    "# class Shape:\n",
    "\n",
    "#     # Method 1\n",
    "#     def area(self,radius):\n",
    "#         return 3.14*radius*radius\n",
    "    \n",
    "#     # Method 2\n",
    "#     def area(self,l,b):\n",
    "#         return l*b\n",
    "    \n",
    "# s = Shape()\n",
    "\n",
    "# print(s.area(2))\n",
    "# print(s.area(3,4))\n",
    "\n",
    "# The above code will not work in python because the last method is called where only input with two prameter is valid,\n",
    "# So to correct this code we need to change the code little bit.\n",
    "\n",
    "class Shape:\n",
    "\n",
    "    def area(self,a,b=0):\n",
    "        if b == 0:\n",
    "            return 3.14*a*a\n",
    "        else:\n",
    "            return a*b\n",
    "\n",
    "s = Shape()\n",
    "\n",
    "print(s.area(2))\n",
    "print(s.area(3,4))"
   ]
  },
  {
   "cell_type": "markdown",
   "id": "bf3dd491",
   "metadata": {},
   "source": [
    "### 3. Operator Overloading"
   ]
  },
  {
   "cell_type": "code",
   "execution_count": 24,
   "id": "ee1e8db6",
   "metadata": {},
   "outputs": [
    {
     "name": "stdout",
     "output_type": "stream",
     "text": [
      "Whenweuse+operatoronstringdatatypethenconcatenationisdone.\n",
      "[1, 2, 3, 4, 5, 6, 7, 8, 9, 10]\n",
      "9\n"
     ]
    }
   ],
   "source": [
    "print('When' + 'we' + 'use' + '+' + 'operator' + 'on' + 'string' + 'data' + 'type' + 'then' + 'concatenation' + 'is' + 'done.')\n",
    "\n",
    "# When we preform + operation on list data type list are appended\n",
    "l1=[1,2,3,4]\n",
    "l2=[5,6,7,8]\n",
    "l3=[9,10]\n",
    "print(l1+l2+l3)\n",
    "\n",
    "# When we perform + operation on int data types then addition operation is performed\n",
    "print(4+5)"
   ]
  },
  {
   "cell_type": "markdown",
   "id": "256bb6db",
   "metadata": {},
   "source": [
    "# Abstraction"
   ]
  },
  {
   "cell_type": "code",
   "execution_count": 26,
   "id": "9bcd55fe",
   "metadata": {},
   "outputs": [],
   "source": [
    "from abc import ABC,abstractmethod\n",
    "\n",
    "# Abstract class\n",
    "class BankApp(ABC):\n",
    "    def database(self):\n",
    "        print('connected to database')\n",
    "\n",
    "    @abstractmethod\n",
    "    def security(self):\n",
    "        pass\n",
    "\n",
    "    @abstractmethod\n",
    "    def display(self):\n",
    "        pass\n"
   ]
  },
  {
   "cell_type": "code",
   "execution_count": 27,
   "id": "7396c6be",
   "metadata": {},
   "outputs": [],
   "source": [
    "class MobileApp(BankApp):\n",
    "\n",
    "    def mobile_login(self):\n",
    "        print('login into mobile')\n",
    "\n",
    "    def security(self):\n",
    "        print('mobile security')\n",
    "\n",
    "    def display(self):\n",
    "        print('display')"
   ]
  },
  {
   "cell_type": "code",
   "execution_count": 28,
   "id": "f2c96c8e",
   "metadata": {},
   "outputs": [
    {
     "name": "stdout",
     "output_type": "stream",
     "text": [
      "mobile security\n"
     ]
    }
   ],
   "source": [
    "mob = MobileApp()\n",
    "mob.security()"
   ]
  },
  {
   "cell_type": "code",
   "execution_count": null,
   "id": "5ce590e2",
   "metadata": {},
   "outputs": [],
   "source": []
  }
 ],
 "metadata": {
  "kernelspec": {
   "display_name": "Python 3 (ipykernel)",
   "language": "python",
   "name": "python3"
  },
  "language_info": {
   "codemirror_mode": {
    "name": "ipython",
    "version": 3
   },
   "file_extension": ".py",
   "mimetype": "text/x-python",
   "name": "python",
   "nbconvert_exporter": "python",
   "pygments_lexer": "ipython3",
   "version": "3.11.3"
  }
 },
 "nbformat": 4,
 "nbformat_minor": 5
}
